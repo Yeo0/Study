{
 "cells": [
  {
   "cell_type": "code",
   "execution_count": 1,
   "metadata": {
    "collapsed": false
   },
   "outputs": [],
   "source": [
    "# A linear regression learning algorithm example using TensorFlow library.\n",
    "\n",
    "# Author: Aymeric Damien\n",
    "# Project: https://github.com/aymericdamien/TensorFlow-Examples/"
   ]
  },
  {
   "cell_type": "code",
   "execution_count": 2,
   "metadata": {
    "collapsed": false
   },
   "outputs": [],
   "source": [
    "import tensorflow as tf\n",
    "import numpy\n",
    "import matplotlib.pyplot as plt\n",
    "rng = numpy.random\n",
    "%matplotlib inline"
   ]
  },
  {
   "cell_type": "code",
   "execution_count": 3,
   "metadata": {
    "collapsed": true
   },
   "outputs": [],
   "source": [
    "# 학습을 위한 파라미터 셋팅; 학습률, 학습 횟수, 50회 학습마다 학습 결과 제시\n",
    "learning_rate = 0.01\n",
    "training_epochs = 1000\n",
    "display_step = 50"
   ]
  },
  {
   "cell_type": "code",
   "execution_count": 4,
   "metadata": {
    "collapsed": false
   },
   "outputs": [
    {
     "data": {
      "text/plain": [
       "<matplotlib.legend.Legend at 0x7f4d206521d0>"
      ]
     },
     "execution_count": 4,
     "metadata": {},
     "output_type": "execute_result"
    },
    {
     "data": {
      "image/png": "[encoded data removed]",
      "text/plain": [
       "<matplotlib.figure.Figure at 0x7f4d022cdfd0>"
      ]
     },
     "metadata": {},
     "output_type": "display_data"
    }
   ],
   "source": [
    "# 학습용 데이터\n",
    "train_X = numpy.asarray([3.3,4.4,5.5,6.71,6.93,4.168,9.779,6.182,7.59,2.167,\n",
    "                         7.042,10.791,5.313,7.997,5.654,9.27,3.1])\n",
    "train_Y = numpy.asarray([1.7,2.76,2.09,3.19,1.694,1.573,3.366,2.596,2.53,1.221,\n",
    "                         2.827,3.465,1.65,2.904,2.42,2.94,1.3])\n",
    "n_samples = train_X.shape[0]\n",
    "\n",
    "# 그래프\n",
    "plt.plot(train_X, train_Y, 'ro', label='Original data')\n",
    "plt.legend(loc='upper left')"
   ]
  },
  {
   "cell_type": "code",
   "execution_count": 5,
   "metadata": {
    "collapsed": true
   },
   "outputs": [],
   "source": [
    "# training data를 넣을 수 있는 공간 확보; placeholder (크기 미지정)\n",
    "X = tf.placeholder(\"float\")\n",
    "Y = tf.placeholder(\"float\")\n",
    "\n",
    "# 변수 셋팅; weight, bias\n",
    "# random하게 initial value 지정\n",
    "W = tf.Variable(rng.randn(), name=\"weight\")\n",
    "b = tf.Variable(rng.randn(), name=\"bias\")"
   ]
  },
  {
   "cell_type": "code",
   "execution_count": 6,
   "metadata": {
    "collapsed": false
   },
   "outputs": [],
   "source": [
    "# X*W+b 형태의 LR model, 즉 activation fn 없이 summation을 출력하는 SLP\n",
    "pred = tf.add(tf.mul(X, W), b)"
   ]
  },
  {
   "cell_type": "code",
   "execution_count": 7,
   "metadata": {
    "collapsed": false
   },
   "outputs": [],
   "source": [
    "# L2 cost function(MSE)\n",
    "# reduce_sum = input tensor의 dimension을 줄여 summation\n",
    "cost = tf.reduce_sum(tf.pow(pred-Y, 2))/(2*n_samples)\n",
    "\n",
    "# Gradient descent optimazer 이용\n",
    "optimizer = tf.train.GradientDescentOptimizer(learning_rate).minimize(cost)"
   ]
  },
  {
   "cell_type": "code",
   "execution_count": 8,
   "metadata": {
    "collapsed": true
   },
   "outputs": [],
   "source": [
    "# 변수 초기화\n",
    "init = tf.initialize_all_variables()"
   ]
  },
  {
   "cell_type": "code",
   "execution_count": 9,
   "metadata": {
    "collapsed": false
   },
   "outputs": [
    {
     "name": "stdout",
     "output_type": "stream",
     "text": [
      "Epoch: 0050 cost= 0.301299989 W= 0.514319 b= -1.10295\n",
      "Epoch: 0100 cost= 0.275390357 W= 0.498575 b= -0.989687\n",
      "Epoch: 0150 cost= 0.252471685 W= 0.483767 b= -0.883158\n",
      "Epoch: 0200 cost= 0.232199401 W= 0.469839 b= -0.782965\n",
      "Epoch: 0250 cost= 0.214268312 W= 0.45674 b= -0.688732\n",
      "Epoch: 0300 cost= 0.198407367 W= 0.44442 b= -0.600102\n",
      "Epoch: 0350 cost= 0.184378237 W= 0.432833 b= -0.516745\n",
      "Epoch: 0400 cost= 0.171969056 W= 0.421935 b= -0.438345\n",
      "Epoch: 0450 cost= 0.160993040 W= 0.411685 b= -0.364607\n",
      "Epoch: 0500 cost= 0.151284650 W= 0.402045 b= -0.295255\n",
      "Epoch: 0550 cost= 0.142697543 W= 0.392978 b= -0.230028\n",
      "Epoch: 0600 cost= 0.135102212 W= 0.38445 b= -0.168681\n",
      "Epoch: 0650 cost= 0.128384188 W= 0.376429 b= -0.110981\n",
      "Epoch: 0700 cost= 0.122442149 W= 0.368886 b= -0.0567138\n",
      "Epoch: 0750 cost= 0.117186546 W= 0.361791 b= -0.00567377\n",
      "Epoch: 0800 cost= 0.112538099 W= 0.355118 b= 0.0423307\n",
      "Epoch: 0850 cost= 0.108426712 W= 0.348842 b= 0.0874802\n",
      "Epoch: 0900 cost= 0.104790337 W= 0.342939 b= 0.129944\n",
      "Epoch: 0950 cost= 0.101574130 W= 0.337388 b= 0.169883\n",
      "Epoch: 1000 cost= 0.098729551 W= 0.332166 b= 0.207446\n",
      "Optimization Finished!\n",
      "Training cost= 0.0987296 W= 0.332166 b= 0.207446 \n",
      "\n"
     ]
    },
    {
     "data": {
      "image/png": "[encoded data removed]",
      "text/plain": [
       "<matplotlib.figure.Figure at 0x7f4d022cd410>"
      ]
     },
     "metadata": {},
     "output_type": "display_data"
    }
   ],
   "source": [
    "# 텐서플로우의 모든 operation은 session위에서 돌아갑니다.\n",
    "with tf.Session() as sess:\n",
    "    # 초기화 op 실행\n",
    "    sess.run(init)\n",
    "\n",
    "    # 미리 만들어 놓은 X, Y라는 placeholder를 key로 이용해 train_X, train_Y 데이터들을 삽입\n",
    "    # 1000번 학습\n",
    "    for epoch in range(training_epochs):\n",
    "        for (x, y) in zip(train_X, train_Y):\n",
    "            sess.run(optimizer, feed_dict={X: x, Y: y})\n",
    "\n",
    "        # cost, W, b가 어떻게 변화하는지 학습 50번마다 표시 \n",
    "        if (epoch+1) % display_step == 0:\n",
    "            c = sess.run(cost, feed_dict={X: train_X, Y:train_Y})\n",
    "            print \"Epoch:\", '%04d' % (epoch+1), \"cost=\", \"{:.9f}\".format(c), \\\n",
    "                \"W=\", sess.run(W), \"b=\", sess.run(b)\n",
    "\n",
    "    \n",
    "    # 학습이 끝난 뒤 최종 cost, W, b\n",
    "    print \"Optimization Finished!\"\n",
    "    training_cost = c\n",
    "    print \"Training cost=\", training_cost, \"W=\", sess.run(W), \"b=\", sess.run(b), '\\n'\n",
    "\n",
    "    # original data와 학습 결과(WX+b)를 함께 plotting\n",
    "    plt.plot(train_X, train_Y, 'ro', label='Original data')\n",
    "    plt.plot(train_X, sess.run(W) * train_X + sess.run(b), label='Fitted line')\n",
    "    plt.legend(loc=4)\n",
    "    plt.show()"
   ]
  },
  {
   "cell_type": "code",
   "execution_count": null,
   "metadata": {
    "collapsed": true
   },
   "outputs": [],
   "source": [
    ""
   ]
  }
 ],
 "metadata": {
  "kernelspec": {
   "display_name": "Python 2",
   "language": "python",
   "name": "python2"
  },
  "language_info": {
   "codemirror_mode": {
    "name": "ipython",
    "version": 2.0
   },
   "file_extension": ".py",
   "mimetype": "text/x-python",
   "name": "python",
   "nbconvert_exporter": "python",
   "pygments_lexer": "ipython2",
   "version": "2.7.6"
  }
 },
 "nbformat": 4,
 "nbformat_minor": 0
}