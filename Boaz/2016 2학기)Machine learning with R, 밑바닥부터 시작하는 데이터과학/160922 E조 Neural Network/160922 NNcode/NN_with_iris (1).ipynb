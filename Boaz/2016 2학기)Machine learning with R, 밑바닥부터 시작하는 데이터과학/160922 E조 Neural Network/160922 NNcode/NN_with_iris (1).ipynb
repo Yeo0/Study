{
 "cells": [
  {
   "cell_type": "code",
   "execution_count": 1,
   "metadata": {
    "collapsed": false,
    "scrolled": true
   },
   "outputs": [
    {
     "name": "stdout",
     "output_type": "stream",
     "text": [
      "  % Total    % Received % Xferd  Average Speed   Time    Time     Time  Current\n",
      "                                 Dload  Upload   Total   Spent    Left  Speed\n",
      "100  4551  100  4551    0     0   3744      0  0:00:01  0:00:01 --:--:--  3748\n"
     ]
    }
   ],
   "source": [
    "!curl -O https://archive.ics.uci.edu/ml/machine-learning-databases/iris/iris.data"
   ]
  },
  {
   "cell_type": "code",
   "execution_count": 2,
   "metadata": {
    "collapsed": true
   },
   "outputs": [],
   "source": [
    "from random import shuffle\n",
    "\n",
    "# read iris data and shuffle them (initially sorted by labels)\n",
    "f = open(\"iris.data\", \"rb\")\n",
    "data = f.read().splitlines()[0:150]\n",
    "shuffle(data)\n",
    "\n",
    "# empty list for iteration\n",
    "Xtrain = []\n",
    "Ytrain = []\n",
    "Xtest = []\n",
    "Ytest = []\n",
    "\n",
    "# 100 samples for training\n",
    "for tmp in data[0:100]:\n",
    "    \n",
    "    # split elements and append features to X, labels to Y\n",
    "    tmp = tmp.split(',')\n",
    "    Xtrain.append(tmp[0:4])\n",
    "    label = tmp[4]\n",
    "    if label == 'Iris-virginica':\n",
    "        Ytrain.append([1,0,0])\n",
    "    elif label == 'Iris-setosa':\n",
    "        Ytrain.append([0,1,0])\n",
    "    elif label == 'Iris-versicolor':\n",
    "        Ytrain.append([0,0,1])\n",
    "        \n",
    "# 50 samples for test, vice versa\n",
    "for tmp in data[100:150]:\n",
    "    tmp = tmp.split(',')\n",
    "    Xtest.append(tmp[0:4])\n",
    "    label = tmp[4]\n",
    "    if label == 'Iris-virginica':\n",
    "        Ytest.append([1,0,0])\n",
    "    elif label == 'Iris-setosa':\n",
    "        Ytest.append([0,1,0])\n",
    "    elif label == 'Iris-versicolor':\n",
    "        Ytest.append([0,0,1])"
   ]
  },
  {
   "cell_type": "code",
   "execution_count": 3,
   "metadata": {
    "collapsed": false
   },
   "outputs": [],
   "source": [
    "import tensorflow as tf\n",
    "\n",
    "# parameters\n",
    "learning_rate = 0.001\n",
    "training_epochs = 5000\n",
    "display_step = 100\n",
    "\n",
    "# network parameters\n",
    "n_input = 4\n",
    "n_hidden = 3\n",
    "n_classes = 3\n",
    "\n",
    "# graph inputs\n",
    "x = tf.placeholder(\"float\", [None, n_input])\n",
    "y = tf.placeholder(\"float\", [None, n_classes])\n",
    "\n",
    "# Create Model with relu activation fn\n",
    "def perceptron(_X, _weights, _biases):\n",
    "    layer = tf.nn.relu(tf.add(tf.matmul(_X, _weights['h']), _biases['b']))\n",
    "    return tf.matmul(layer, _weights['out']) + _biases['out']\n",
    "\n",
    "# We need 2 weights and biases\n",
    "weights = {\n",
    "    'h': tf.Variable(tf.random_normal([n_input, n_hidden])),\n",
    "    'out': tf.Variable(tf.random_normal([n_hidden, n_classes]))\n",
    "}\n",
    "biases = {\n",
    "    'b': tf.Variable(tf.random_normal([n_hidden])),\n",
    "    'out': tf.Variable(tf.random_normal([n_classes]))\n",
    "}\n",
    "\n",
    "# Construct model\n",
    "pred = perceptron(x, weights, biases)\n",
    "\n",
    "# Define loss and optimizer\n",
    "cost = tf.reduce_mean(tf.nn.softmax_cross_entropy_with_logits(pred, y))\n",
    "optimizer = tf.train.AdamOptimizer(learning_rate=learning_rate).minimize(cost)\n",
    "\n",
    "# initializing all variables\n",
    "init = tf.initialize_all_variables()"
   ]
  },
  {
   "cell_type": "code",
   "execution_count": 4,
   "metadata": {
    "collapsed": false
   },
   "outputs": [
    {
     "name": "stdout",
     "output_type": "stream",
     "text": [
      "Epoch: 0001 cost= 12.722921371\n",
      "Epoch: 0101 cost= 8.837879181\n",
      "Epoch: 0201 cost= 4.771443367\n",
      "Epoch: 0301 cost= 0.846112847\n",
      "Epoch: 0401 cost= 0.617144704\n",
      "Epoch: 0501 cost= 0.600497305\n",
      "Epoch: 0601 cost= 0.581407309\n",
      "Epoch: 0701 cost= 0.559814692\n",
      "Epoch: 0801 cost= 0.535748541\n",
      "Epoch: 0901 cost= 0.509321690\n",
      "Epoch: 1001 cost= 0.480784595\n",
      "Epoch: 1101 cost= 0.450572163\n",
      "Epoch: 1201 cost= 0.419326395\n",
      "Epoch: 1301 cost= 0.387867063\n",
      "Epoch: 1401 cost= 0.357106477\n",
      "Epoch: 1501 cost= 0.327915281\n",
      "Epoch: 1601 cost= 0.300985217\n",
      "Epoch: 1701 cost= 0.276741922\n",
      "Epoch: 1801 cost= 0.255331278\n",
      "Epoch: 1901 cost= 0.236669242\n",
      "Epoch: 2001 cost= 0.220521092\n",
      "Epoch: 2101 cost= 0.206579283\n",
      "Epoch: 2201 cost= 0.194519952\n",
      "Epoch: 2301 cost= 0.184038416\n",
      "Epoch: 2401 cost= 0.174865946\n",
      "Epoch: 2501 cost= 0.166774660\n",
      "Epoch: 2601 cost= 0.159575626\n",
      "Epoch: 2701 cost= 0.153115273\n",
      "Epoch: 2801 cost= 0.147292763\n",
      "Epoch: 2901 cost= 0.141982019\n",
      "Epoch: 3001 cost= 0.137098730\n",
      "Epoch: 3101 cost= 0.132592157\n",
      "Epoch: 3201 cost= 0.128425300\n",
      "Epoch: 3301 cost= 0.124526002\n",
      "Epoch: 3401 cost= 0.120882452\n",
      "Epoch: 3501 cost= 0.117478110\n",
      "Epoch: 3601 cost= 0.114284649\n",
      "Epoch: 3701 cost= 0.111254223\n",
      "Epoch: 3801 cost= 0.108362176\n",
      "Epoch: 3901 cost= 0.105620697\n",
      "Epoch: 4001 cost= 0.103009745\n",
      "Epoch: 4101 cost= 0.100513458\n",
      "Epoch: 4201 cost= 0.098138154\n",
      "Epoch: 4301 cost= 0.095866829\n",
      "Epoch: 4401 cost= 0.093686007\n",
      "Epoch: 4501 cost= 0.091593698\n",
      "Epoch: 4601 cost= 0.089586899\n",
      "Epoch: 4701 cost= 0.087654248\n",
      "Epoch: 4801 cost= 0.085796453\n",
      "Epoch: 4901 cost= 0.084012680\n",
      "Optimization Finished!\n",
      "Accuracy: 0.98\n"
     ]
    }
   ],
   "source": [
    "with tf.Session() as sess:\n",
    "    # init operation\n",
    "    sess.run(init)\n",
    "    \n",
    "    # Training cycle\n",
    "    for epoch in range(training_epochs):\n",
    "        avg_cost = 0.\n",
    "        # Fit training\n",
    "        sess.run(optimizer, feed_dict={x: Xtrain, y: Ytrain})\n",
    "        # Compute average loss\n",
    "        avg_cost += sess.run(cost, feed_dict={x: Xtrain, y: Ytrain})\n",
    "        # Display logs per epoch step\n",
    "        if epoch % display_step == 0:\n",
    "            print \"Epoch:\", '%04d' % (epoch+1), \"cost=\", \"{:.9f}\".format(avg_cost)\n",
    "            \n",
    "    print \"Optimization Finished!\"\n",
    "    # Test model\n",
    "    correct_prediction = tf.equal(tf.argmax(pred, 1), tf.argmax(y, 1))\n",
    "    # Calculate accuracy\n",
    "    accuracy = tf.reduce_mean(tf.cast(correct_prediction, \"float\"))\n",
    "    print \"Accuracy:\", accuracy.eval({x: Xtest, y: Ytest})"
   ]
  }
 ],
 "metadata": {
  "kernelspec": {
   "display_name": "Python 2",
   "language": "python",
   "name": "python2"
  },
  "language_info": {
   "codemirror_mode": {
    "name": "ipython",
    "version": 2
   },
   "file_extension": ".py",
   "mimetype": "text/x-python",
   "name": "python",
   "nbconvert_exporter": "python",
   "pygments_lexer": "ipython2",
   "version": "2.7.6"
  }
 },
 "nbformat": 4,
 "nbformat_minor": 0
}
