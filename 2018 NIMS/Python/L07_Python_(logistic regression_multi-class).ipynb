{
 "cells": [
  {
   "cell_type": "code",
   "execution_count": 1,
   "metadata": {},
   "outputs": [],
   "source": [
    "import numpy as np\n",
    "import matplotlib.pyplot as plt\n",
    "import pandas as pd\n",
    "\n",
    "from sklearn.model_selection import train_test_split\n",
    "from sklearn.linear_model import LogisticRegression"
   ]
  },
  {
   "cell_type": "markdown",
   "metadata": {},
   "source": [
    "### Data"
   ]
  },
  {
   "cell_type": "code",
   "execution_count": 2,
   "metadata": {},
   "outputs": [],
   "source": [
    "df=pd.read_csv(\"multi_class_data1.csv\",sep=\",\")"
   ]
  },
  {
   "cell_type": "code",
   "execution_count": 3,
   "metadata": {},
   "outputs": [
    {
     "data": {
      "text/html": [
       "<div>\n",
       "<style scoped>\n",
       "    .dataframe tbody tr th:only-of-type {\n",
       "        vertical-align: middle;\n",
       "    }\n",
       "\n",
       "    .dataframe tbody tr th {\n",
       "        vertical-align: top;\n",
       "    }\n",
       "\n",
       "    .dataframe thead th {\n",
       "        text-align: right;\n",
       "    }\n",
       "</style>\n",
       "<table border=\"1\" class=\"dataframe\">\n",
       "  <thead>\n",
       "    <tr style=\"text-align: right;\">\n",
       "      <th></th>\n",
       "      <th>x1</th>\n",
       "      <th>x2</th>\n",
       "      <th>target</th>\n",
       "    </tr>\n",
       "  </thead>\n",
       "  <tbody>\n",
       "    <tr>\n",
       "      <th>0</th>\n",
       "      <td>0.890118</td>\n",
       "      <td>1.798490</td>\n",
       "      <td>1</td>\n",
       "    </tr>\n",
       "    <tr>\n",
       "      <th>1</th>\n",
       "      <td>0.628358</td>\n",
       "      <td>4.460136</td>\n",
       "      <td>0</td>\n",
       "    </tr>\n",
       "    <tr>\n",
       "      <th>2</th>\n",
       "      <td>1.131218</td>\n",
       "      <td>4.681950</td>\n",
       "      <td>0</td>\n",
       "    </tr>\n",
       "    <tr>\n",
       "      <th>3</th>\n",
       "      <td>1.289338</td>\n",
       "      <td>3.449692</td>\n",
       "      <td>0</td>\n",
       "    </tr>\n",
       "    <tr>\n",
       "      <th>4</th>\n",
       "      <td>-0.730000</td>\n",
       "      <td>6.254563</td>\n",
       "      <td>0</td>\n",
       "    </tr>\n",
       "  </tbody>\n",
       "</table>\n",
       "</div>"
      ],
      "text/plain": [
       "         x1        x2  target\n",
       "0  0.890118  1.798490       1\n",
       "1  0.628358  4.460136       0\n",
       "2  1.131218  4.681950       0\n",
       "3  1.289338  3.449692       0\n",
       "4 -0.730000  6.254563       0"
      ]
     },
     "execution_count": 3,
     "metadata": {},
     "output_type": "execute_result"
    }
   ],
   "source": [
    "df.head()"
   ]
  },
  {
   "cell_type": "code",
   "execution_count": 4,
   "metadata": {},
   "outputs": [],
   "source": [
    "x=df.values[:,0:2]\n",
    "y=df.values[:,2]"
   ]
  },
  {
   "cell_type": "code",
   "execution_count": 6,
   "metadata": {},
   "outputs": [
    {
     "name": "stdout",
     "output_type": "stream",
     "text": [
      "(45, 2) (45,)\n"
     ]
    }
   ],
   "source": [
    "X_train, X_test, y_train, y_test = train_test_split(x,y,random_state=10, test_size=0.25)\n",
    "print(X_train.shape,y_train.shape)"
   ]
  },
  {
   "cell_type": "code",
   "execution_count": 8,
   "metadata": {},
   "outputs": [
    {
     "data": {
      "image/png": "[encoded data removed]",
      "text/plain": [
       "<Figure size 432x288 with 1 Axes>"
      ]
     },
     "metadata": {},
     "output_type": "display_data"
    }
   ],
   "source": [
    "plt.scatter(X_train[y_train==0,0],X_train[y_train==0,1],color='b',marker='o',label='class0')\n",
    "plt.scatter(X_train[y_train==1,0],X_train[y_train==1,1],color='k',marker='^',label='class1')\n",
    "plt.scatter(X_train[y_train==2,0],X_train[y_train==2,1],color='g',marker='s',label='class2')\n",
    "\n",
    "plt.legend()\n",
    "plt.title(\"Multi Class\")\n",
    "plt.show()"
   ]
  },
  {
   "cell_type": "markdown",
   "metadata": {},
   "source": [
    "### Logistic Regression Model"
   ]
  },
  {
   "cell_type": "code",
   "execution_count": 10,
   "metadata": {},
   "outputs": [],
   "source": [
    "#model\n",
    "\n",
    "logReg=LogisticRegression(C=1.0)\n",
    "#default penalty=12"
   ]
  },
  {
   "cell_type": "code",
   "execution_count": 11,
   "metadata": {},
   "outputs": [
    {
     "data": {
      "text/plain": [
       "LogisticRegression(C=1.0, class_weight=None, dual=False, fit_intercept=True,\n",
       "          intercept_scaling=1, max_iter=100, multi_class='ovr', n_jobs=1,\n",
       "          penalty='l2', random_state=None, solver='liblinear', tol=0.0001,\n",
       "          verbose=0, warm_start=False)"
      ]
     },
     "execution_count": 11,
     "metadata": {},
     "output_type": "execute_result"
    }
   ],
   "source": [
    "#learning\n",
    "logReg.fit(X_train,y_train)"
   ]
  },
  {
   "cell_type": "code",
   "execution_count": 12,
   "metadata": {},
   "outputs": [
    {
     "name": "stdout",
     "output_type": "stream",
     "text": [
      "[[1.17233941e-01 8.02755701e-01 8.00103580e-02]\n",
      " [4.86426308e-01 5.13124886e-01 4.48805928e-04]\n",
      " [9.09382092e-01 6.80672727e-02 2.25506348e-02]\n",
      " [2.66528755e-01 1.01471200e-03 7.32456533e-01]\n",
      " [2.02471149e-01 4.47769427e-01 3.49759425e-01]\n",
      " [1.01396117e-01 6.34703428e-01 2.63900456e-01]\n",
      " [5.02164306e-01 4.96981591e-01 8.54102704e-04]\n",
      " [2.68533837e-01 6.95392078e-03 7.24512242e-01]\n",
      " [5.13058098e-01 2.82293901e-04 4.86659608e-01]\n",
      " [7.93005580e-01 2.23299105e-02 1.84664509e-01]\n",
      " [1.99458339e-01 3.45883573e-04 8.00195778e-01]\n",
      " [7.71233946e-01 2.08165600e-01 2.06004535e-02]\n",
      " [2.67968919e-01 5.55127594e-01 1.76903486e-01]\n",
      " [6.80531991e-02 2.13247962e-02 9.10622005e-01]\n",
      " [7.36437476e-01 4.14611834e-02 2.22101341e-01]\n",
      " [2.12994300e-01 6.89530503e-03 7.80110394e-01]\n",
      " [2.59750033e-01 7.28881200e-01 1.13687668e-02]\n",
      " [8.20881686e-02 7.18760556e-03 9.10724226e-01]\n",
      " [1.10683589e-01 8.57046913e-04 8.88459364e-01]\n",
      " [2.93551470e-01 1.89738169e-01 5.16710360e-01]\n",
      " [2.19858422e-01 6.95720021e-01 8.44215563e-02]\n",
      " [1.82348060e-01 1.45872313e-03 8.16193217e-01]\n",
      " [1.73724512e-01 7.41473698e-01 8.48017898e-02]\n",
      " [1.29723467e-01 8.63300833e-01 6.97569953e-03]\n",
      " [2.56717377e-01 6.55862629e-02 6.77696360e-01]\n",
      " [9.68459943e-01 2.45607827e-02 6.97927404e-03]\n",
      " [1.93058761e-01 8.05264272e-01 1.67696695e-03]\n",
      " [6.07838312e-02 8.58293420e-01 8.09227484e-02]\n",
      " [9.88095197e-02 8.57199262e-01 4.39912180e-02]\n",
      " [2.70407536e-01 7.15867430e-01 1.37250342e-02]\n",
      " [1.86341997e-01 8.06965847e-01 6.69215618e-03]\n",
      " [1.64906048e-01 8.10307153e-03 8.26990881e-01]\n",
      " [1.26348273e-01 9.32838759e-04 8.72718888e-01]\n",
      " [1.61974795e-01 3.02965103e-03 8.34995554e-01]\n",
      " [1.48388924e-01 8.00885473e-01 5.07256037e-02]\n",
      " [8.55817554e-02 7.52263386e-02 8.39191906e-01]\n",
      " [1.46386583e-01 7.99041433e-01 5.45719840e-02]\n",
      " [1.95257766e-01 7.94702683e-01 1.00395513e-02]\n",
      " [6.32356633e-01 3.95123216e-02 3.28131046e-01]\n",
      " [8.65590135e-01 2.01982185e-02 1.14211646e-01]\n",
      " [8.42496333e-01 5.53275890e-02 1.02176078e-01]\n",
      " [3.01969643e-01 5.44713025e-01 1.53317332e-01]\n",
      " [9.37999476e-01 5.86856788e-03 5.61319559e-02]\n",
      " [8.72112138e-01 1.12014716e-01 1.58731453e-02]\n",
      " [1.79448229e-01 2.41577248e-04 8.20310194e-01]]\n"
     ]
    }
   ],
   "source": [
    "#prediction (probability) for training set\n",
    "y_train_proba=logReg.predict_proba(X_train) #probability\n",
    "\n",
    "#print(y_train_proba)"
   ]
  },
  {
   "cell_type": "code",
   "execution_count": 13,
   "metadata": {},
   "outputs": [
    {
     "name": "stdout",
     "output_type": "stream",
     "text": [
      "[1. 1. 0. 2. 1. 1. 0. 2. 0. 0. 2. 0. 1. 2. 0. 2. 1. 2. 2. 2. 1. 2. 1. 1.\n",
      " 2. 0. 1. 1. 1. 1. 1. 2. 2. 2. 1. 2. 1. 1. 0. 0. 0. 1. 0. 0. 2.]\n",
      "[1. 1. 0. 2. 2. 1. 0. 2. 0. 0. 2. 0. 1. 2. 0. 2. 1. 2. 2. 0. 1. 2. 1. 1.\n",
      " 2. 0. 1. 1. 1. 1. 1. 2. 2. 2. 1. 2. 1. 1. 2. 0. 0. 1. 0. 0. 2.]\n"
     ]
    }
   ],
   "source": [
    "#for training set\n",
    "y_train_pred=logReg.predict(X_train)\n",
    "print(y_train_pred)\n",
    "print(y_train)"
   ]
  },
  {
   "cell_type": "code",
   "execution_count": 14,
   "metadata": {},
   "outputs": [
    {
     "name": "stdout",
     "output_type": "stream",
     "text": [
      "0.9333333333333333\n"
     ]
    }
   ],
   "source": [
    "#Accuracy\n",
    "\n",
    "acc_train=np.sum(np.array(y_train_pred==y_train))/y_train.size\n",
    "print(acc_train)"
   ]
  },
  {
   "cell_type": "code",
   "execution_count": 15,
   "metadata": {},
   "outputs": [
    {
     "name": "stdout",
     "output_type": "stream",
     "text": [
      "[[1.76440776e-01 5.18211566e-01 3.05347658e-01]\n",
      " [7.63752579e-01 1.66822451e-01 6.94249694e-02]\n",
      " [8.21635125e-01 1.73479818e-01 4.88505714e-03]\n",
      " [3.45969493e-01 8.02001717e-02 5.73830336e-01]\n",
      " [9.20247829e-01 3.85949573e-02 4.11572135e-02]\n",
      " [6.81371086e-01 4.35688041e-02 2.75060110e-01]\n",
      " [2.81552248e-01 6.61635555e-04 7.17786117e-01]\n",
      " [9.00825519e-01 2.75427060e-02 7.16317745e-02]\n",
      " [7.17352839e-01 1.84901809e-02 2.64156981e-01]\n",
      " [2.80637448e-01 7.16461268e-01 2.90128409e-03]\n",
      " [9.73342442e-01 2.30401583e-02 3.61739943e-03]\n",
      " [2.19136476e-01 3.98298584e-03 7.76880539e-01]\n",
      " [2.15835057e-01 4.64353301e-02 7.37729613e-01]\n",
      " [2.09523683e-01 7.64752885e-01 2.57234321e-02]\n",
      " [2.60454640e-01 2.69091213e-03 7.36854448e-01]]\n"
     ]
    }
   ],
   "source": [
    "#prediction(probability) for test set\n",
    "y_test_proba=logReg.predict_proba(X_test)\n",
    "print(y_test_proba)"
   ]
  },
  {
   "cell_type": "code",
   "execution_count": 16,
   "metadata": {},
   "outputs": [
    {
     "name": "stdout",
     "output_type": "stream",
     "text": [
      "[1. 0. 0. 2. 0. 0. 2. 0. 0. 1. 0. 2. 2. 1. 2.]\n",
      "[1. 0. 0. 0. 0. 0. 0. 0. 2. 1. 0. 2. 2. 1. 2.]\n",
      "0.8\n"
     ]
    }
   ],
   "source": [
    "#for test set\n",
    "y_test_pred=logReg.predict(X_test)\n",
    "acc_test=np.sum(np.array(y_test_pred==y_test))/y_test.size\n",
    "print(y_test_pred)\n",
    "print(y_test)\n",
    "print(acc_test)"
   ]
  },
  {
   "cell_type": "code",
   "execution_count": 18,
   "metadata": {},
   "outputs": [
    {
     "name": "stdout",
     "output_type": "stream",
     "text": [
      "[[ 0.57853758  0.63239744]\n",
      " [ 1.06219419 -1.32749595]\n",
      " [-1.95554854 -0.13891111]]\n",
      "[-2.79771403  1.18188168  0.02181612]\n"
     ]
    }
   ],
   "source": [
    "#Attributes (one vs rest)\n",
    "print(logReg.coef_) #계수들\n",
    "print(logReg.intercept_)"
   ]
  },
  {
   "cell_type": "code",
   "execution_count": 21,
   "metadata": {},
   "outputs": [
    {
     "data": {
      "image/png": "[encoded data removed]",
      "text/plain": [
       "<Figure size 432x288 with 1 Axes>"
      ]
     },
     "metadata": {},
     "output_type": "display_data"
    }
   ],
   "source": [
    "markers=['o','^','s']\n",
    "colors=['green','orange','black']\n",
    "\n",
    "xval=np.linspace(-3,4,10)\n",
    "for k, color in zip(range(3),colors):\n",
    "    m=-logReg.coef_[k,0] /logReg.coef_[k,1]\n",
    "    b=-logReg.intercept_[k]/logReg.coef_[k,1]\n",
    "    \n",
    "    yval=m*xval+b\n",
    "    plt.plot(xval,yval,color=color)\n",
    "    \n",
    "labels=['class0','class1','class2']\n",
    "\n",
    "for marker,k,label in zip(markers, [0,1,2],labels):\n",
    "    plt.scatter(X_train[y_train==k,0],X_train[y_train==k,1],color='b',marker=marker, label=label)\n",
    "    \n",
    "for marker, k in zip(markers, [0,1,2]):\n",
    "    plt.scatter(X_test[y_test==k,0],X_test[y_test==k,1], color='r', marker=marker)\n",
    "    \n",
    "plt.xlim(-3,4)\n",
    "plt.ylim(-2,7)\n",
    "\n",
    "plt.legend()\n",
    "plt.show()"
   ]
  }
 ],
 "metadata": {
  "kernelspec": {
   "display_name": "Python 3",
   "language": "python",
   "name": "python3"
  },
  "language_info": {
   "codemirror_mode": {
    "name": "ipython",
    "version": 3
   },
   "file_extension": ".py",
   "mimetype": "text/x-python",
   "name": "python",
   "nbconvert_exporter": "python",
   "pygments_lexer": "ipython3",
   "version": "3.6.6"
  }
 },
 "nbformat": 4,
 "nbformat_minor": 2
}
