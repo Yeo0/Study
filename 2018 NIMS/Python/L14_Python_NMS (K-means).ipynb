{
 "cells": [
  {
   "cell_type": "code",
   "execution_count": 2,
   "metadata": {},
   "outputs": [],
   "source": [
    "import numpy as np\n",
    "import matplotlib.pyplot as plt\n",
    "\n",
    "from sklearn.cluster import KMeans\n",
    "\n",
    "from sklearn.datasets import make_blobs"
   ]
  },
  {
   "cell_type": "code",
   "execution_count": 11,
   "metadata": {},
   "outputs": [
    {
     "name": "stdout",
     "output_type": "stream",
     "text": [
      "[[ -0.43112247  -3.00722553]\n",
      " [ -2.72577723  -2.96021103]\n",
      " [ -2.69138291  -1.80881652]\n",
      " [ -1.91775697 -10.66908765]\n",
      " [ -3.71486953  -9.36874886]\n",
      " [ -1.8967304   -0.80800871]\n",
      " [ -2.70131918  -9.63497056]\n",
      " [  0.61758013  -1.36802291]\n",
      " [ -2.33805418 -10.39048298]\n",
      " [  0.95367932  -0.96754871]\n",
      " [ -3.33060346  -2.35247963]\n",
      " [ -0.77722054 -10.72676345]\n",
      " [  0.35857025  -0.7851559 ]\n",
      " [  0.33999929  -0.45109587]\n",
      " [  1.42674589  -0.01517292]\n",
      " [  0.61173308  -1.22706314]\n",
      " [ -0.74104364 -10.07763506]\n",
      " [  1.60459034  -1.24558156]\n",
      " [ -2.15820985  -9.63790953]\n",
      " [ -1.38843598  -1.98660734]\n",
      " [  1.51754599  -0.55827257]\n",
      " [ -1.2800922   -8.93912279]\n",
      " [ -4.25209341  -3.4847562 ]\n",
      " [ -2.05464931  -3.04241509]\n",
      " [  0.67974136  -0.52254041]\n",
      " [ -2.02797291  -9.47245011]\n",
      " [ -1.54915892  -7.25010857]\n",
      " [ -1.04707349  -1.24729662]\n",
      " [ -0.8748411    0.43763252]\n",
      " [  0.31557398  -2.73299117]\n",
      " [ -1.29923245  -8.30647414]\n",
      " [  1.99361544  -1.67464467]\n",
      " [ -0.72864791  -7.18926735]\n",
      " [ -0.77824475 -10.32568907]\n",
      " [ -1.23856256 -10.59940081]\n",
      " [  0.57393308  -1.42588105]\n",
      " [ -0.90965742  -8.1218415 ]\n",
      " [ -1.02353151 -10.47025441]\n",
      " [ -1.21077772  -2.82702814]\n",
      " [ -0.76794095  -2.14509066]\n",
      " [ -0.41911246  -5.73690677]\n",
      " [  1.20936556  -3.15216453]\n",
      " [  2.46092757  -1.62922949]\n",
      " [ -1.21217199  -3.61043885]\n",
      " [ -0.22540853  -2.17541795]\n",
      " [ -1.99653623  -4.77782225]\n",
      " [ -0.89752435  -5.42677013]\n",
      " [  0.16411427  -1.20584193]\n",
      " [ -1.61892392  -9.71765939]\n",
      " [ -1.78211322  -3.47052225]]\n",
      "[2 2 2 0 0 2 0 1 0 1 2 0 1 1 1 1 0 1 0 2 1 0 2 2 1 0 0 1 1 1 0 1 0 0 0 1 0\n",
      " 0 2 2 2 1 1 2 2 2 2 1 0 2]\n"
     ]
    }
   ],
   "source": [
    "X,y=make_blobs(n_samples=50, centers=3, n_features=2, random_state=2)\n",
    "print(X)\n",
    "print(y)"
   ]
  },
  {
   "cell_type": "code",
   "execution_count": 5,
   "metadata": {},
   "outputs": [
    {
     "data": {
      "image/png": "[encoded data removed]",
      "text/plain": [
       "<Figure size 432x288 with 1 Axes>"
      ]
     },
     "metadata": {},
     "output_type": "display_data"
    }
   ],
   "source": [
    "plt.scatter(X[:,0],X[:,1])\n",
    "plt.title(\"Random data - no labels\")\n",
    "plt.show()"
   ]
  },
  {
   "cell_type": "code",
   "execution_count": 7,
   "metadata": {},
   "outputs": [
    {
     "data": {
      "image/png": "[encoded data removed]",
      "text/plain": [
       "<Figure size 432x288 with 1 Axes>"
      ]
     },
     "metadata": {},
     "output_type": "display_data"
    }
   ],
   "source": [
    "plt.scatter(X[:,0],X[:,1], c=y)\n",
    "plt.title(\"Random Data - with labels\")\n",
    "plt.show() #임의적 레이블 표현. "
   ]
  },
  {
   "cell_type": "markdown",
   "metadata": {},
   "source": [
    "### K-means Clustering ( k value)"
   ]
  },
  {
   "cell_type": "code",
   "execution_count": 9,
   "metadata": {},
   "outputs": [
    {
     "data": {
      "text/plain": [
       "KMeans(algorithm='auto', copy_x=True, init='k-means++', max_iter=300,\n",
       "    n_clusters=3, n_init=10, n_jobs=1, precompute_distances='auto',\n",
       "    random_state=None, tol=0.0001, verbose=0)"
      ]
     },
     "execution_count": 9,
     "metadata": {},
     "output_type": "execute_result"
    }
   ],
   "source": [
    "#model and learning (X-value만)\n",
    "kmeans=KMeans(n_clusters=3) #몇 개의 클러스터로 묶을것인지 지정해 주어야\n",
    "kmeans.fit(X)\n"
   ]
  },
  {
   "cell_type": "code",
   "execution_count": 10,
   "metadata": {},
   "outputs": [
    {
     "name": "stdout",
     "output_type": "stream",
     "text": [
      "[1 1 1 0 0 1 0 2 0 2 1 0 2 2 2 2 0 2 0 1 2 0 1 1 2 0 0 2 2 2 0 2 0 0 0 2 0\n",
      " 0 1 1 1 2 2 1 2 1 1 2 0 1]\n",
      "[2 2 2 0 0 2 0 1 0 1 2 0 1 1 1 1 0 1 0 2 1 0 2 2 1 0 0 1 1 1 0 1 0 0 0 1 0\n",
      " 0 2 2 2 1 1 2 2 2 2 1 0 2]\n",
      "[[-1.57661756 -9.46458037]\n",
      " [-1.80379814 -3.16300661]\n",
      " [ 0.70446625 -1.21923827]]\n"
     ]
    }
   ],
   "source": [
    "print(kmeans.labels_)\n",
    "print(y)\n",
    "print(kmeans.cluster_centers_) # 각 클러스터의 센터 "
   ]
  },
  {
   "cell_type": "code",
   "execution_count": 12,
   "metadata": {},
   "outputs": [
    {
     "name": "stdout",
     "output_type": "stream",
     "text": [
      "0.36\n"
     ]
    }
   ],
   "source": [
    "#General.(r)\n",
    "#acc=np.sum(np.array(kmeans.labels_ ==y))/y.size\n",
    "#print(acc)"
   ]
  },
  {
   "cell_type": "code",
   "execution_count": null,
   "metadata": {},
   "outputs": [],
   "source": [
    "colors=['blue','black','green']\n",
    "\n",
    "for colors, i in zip(colors, [0,1,2]):\n",
    "    plt.scatter(X[kmeans.labels_ == i,0],\n",
    "                X[kmeans.labels ==])"
   ]
  }
 ],
 "metadata": {
  "kernelspec": {
   "display_name": "Python 3",
   "language": "python",
   "name": "python3"
  },
  "language_info": {
   "codemirror_mode": {
    "name": "ipython",
    "version": 3
   },
   "file_extension": ".py",
   "mimetype": "text/x-python",
   "name": "python",
   "nbconvert_exporter": "python",
   "pygments_lexer": "ipython3",
   "version": "3.6.6"
  }
 },
 "nbformat": 4,
 "nbformat_minor": 2
}
