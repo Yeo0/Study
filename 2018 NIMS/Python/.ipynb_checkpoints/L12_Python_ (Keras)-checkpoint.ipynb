{
 "cells": [
  {
   "cell_type": "code",
   "execution_count": 12,
   "metadata": {},
   "outputs": [],
   "source": [
    "import numpy as np\n",
    "import matplotlib.pyplot as plt\n",
    "import tensorflow as tf\n",
    "\n",
    "from keras.models import Sequential\n",
    "from keras.layers import Dense, Activation\n",
    "from keras.optimizers import SGD"
   ]
  },
  {
   "cell_type": "markdown",
   "metadata": {},
   "source": [
    "### Or Gate (no hidden layer)"
   ]
  },
  {
   "cell_type": "code",
   "execution_count": 24,
   "metadata": {},
   "outputs": [],
   "source": [
    "#Or data\n",
    "X=np.array([[0,0],[0,1],[1,0],[1,1]])\n",
    "Y=np.array([[0],[1],[1],[1]])"
   ]
  },
  {
   "cell_type": "markdown",
   "metadata": {},
   "source": [
    "- model (including learning process and evaluation methods), training, evaluting"
   ]
  },
  {
   "cell_type": "code",
   "execution_count": 25,
   "metadata": {},
   "outputs": [],
   "source": [
    "model=Sequential([\n",
    "    Dense(input_dim=2,units=1), #units: output\n",
    "    Activation('sigmoid') #activation function\n",
    "])"
   ]
  },
  {
   "cell_type": "code",
   "execution_count": 26,
   "metadata": {},
   "outputs": [
    {
     "name": "stdout",
     "output_type": "stream",
     "text": [
      "_________________________________________________________________\n",
      "Layer (type)                 Output Shape              Param #   \n",
      "=================================================================\n",
      "dense_7 (Dense)              (None, 1)                 3         \n",
      "_________________________________________________________________\n",
      "activation_4 (Activation)    (None, 1)                 0         \n",
      "=================================================================\n",
      "Total params: 3\n",
      "Trainable params: 3\n",
      "Non-trainable params: 0\n",
      "_________________________________________________________________\n"
     ]
    }
   ],
   "source": [
    "model.summary()"
   ]
  },
  {
   "cell_type": "code",
   "execution_count": 27,
   "metadata": {},
   "outputs": [],
   "source": [
    "#Setting learning process (loss function, optimizer)\n",
    "\n",
    "model.compile(loss='binary_crossentropy',optimizer=SGD(lr=0.1))"
   ]
  },
  {
   "cell_type": "code",
   "execution_count": 34,
   "metadata": {},
   "outputs": [
    {
     "name": "stdout",
     "output_type": "stream",
     "text": [
      "4/4 [==============================] - 0s 118us/step\n",
      "classified:\n",
      " [[ True]\n",
      " [False]\n",
      " [False]\n",
      " [False]]\n",
      "4/4 [==============================] - 0s 214us/step\n",
      "output probability:\n",
      " [[0.5       ]\n",
      " [0.34347805]\n",
      " [0.44301867]\n",
      " [0.2938512 ]]\n"
     ]
    }
   ],
   "source": [
    "#Checking before training\n",
    "#(.predict_classes, .predict_prob)\n",
    "\n",
    "classes=model.predict_classes(X,verbose=1) #verbose: 정보표시량\n",
    "print(\"classified:\\n\",Y==classes)\n",
    "\n",
    "prob=model.predict_proba(X,verbose=1) \n",
    "print(\"output probability:\\n\",prob)"
   ]
  },
  {
   "cell_type": "code",
   "execution_count": 9,
   "metadata": {},
   "outputs": [
    {
     "name": "stdout",
     "output_type": "stream",
     "text": [
      "4/4 [==============================] - 0s 8ms/step\n",
      "loss:\n",
      " 1.0706708431243896\n"
     ]
    }
   ],
   "source": [
    "#using evaluate (look at the compile process)\n",
    "loss=model.evaluate(X,Y,verbose=1)\n",
    "print('loss:\\n',loss)"
   ]
  },
  {
   "cell_type": "code",
   "execution_count": 10,
   "metadata": {},
   "outputs": [
    {
     "data": {
      "text/plain": [
       "<keras.callbacks.History at 0xb22453780>"
      ]
     },
     "execution_count": 10,
     "metadata": {},
     "output_type": "execute_result"
    }
   ],
   "source": [
    "#Training (Learning)\n",
    "model.fit(X,Y,epochs=200,verbose=0) #verbose=logging / 0: 없음 / 1:progress bar / 2: epoch 당"
   ]
  },
  {
   "cell_type": "code",
   "execution_count": 11,
   "metadata": {},
   "outputs": [
    {
     "name": "stdout",
     "output_type": "stream",
     "text": [
      "classified:\n",
      " [[ True]\n",
      " [False]\n",
      " [False]\n",
      " [False]]\n",
      "output probability:\n",
      " [[0.5427223 ]\n",
      " [0.8496691 ]\n",
      " [0.8148713 ]\n",
      " [0.95446545]]\n",
      "loss:\n",
      " 0.2991753816604614\n"
     ]
    }
   ],
   "source": [
    "#Result\n",
    "classe=model.predict_classes(X,verbose=0)\n",
    "print('classified:\\n',Y==classes)\n",
    "\n",
    "prob=model.predict_proba(X,verbose=0)\n",
    "print('output probability:\\n',prob)\n",
    "\n",
    "loss=model.evaluate(X,Y,verbose=0)\n",
    "print(\"loss:\\n\",loss)"
   ]
  },
  {
   "cell_type": "markdown",
   "metadata": {},
   "source": [
    "### Model을 정의하는 다른 방법 (a typical way)"
   ]
  },
  {
   "cell_type": "code",
   "execution_count": 4,
   "metadata": {},
   "outputs": [
    {
     "name": "stdout",
     "output_type": "stream",
     "text": [
      "_________________________________________________________________\n",
      "Layer (type)                 Output Shape              Param #   \n",
      "=================================================================\n",
      "dense_1 (Dense)              (None, 1)                 3         \n",
      "_________________________________________________________________\n",
      "activation_1 (Activation)    (None, 1)                 0         \n",
      "=================================================================\n",
      "Total params: 3\n",
      "Trainable params: 3\n",
      "Non-trainable params: 0\n",
      "_________________________________________________________________\n"
     ]
    }
   ],
   "source": [
    "#another way to define the model\n",
    "\n",
    "model=Sequential()\n",
    "model.add(Dense(input_dim=2,units=1))\n",
    "model.add(Activation('sigmoid'))\n",
    "\n",
    "model.summary()"
   ]
  },
  {
   "cell_type": "code",
   "execution_count": 5,
   "metadata": {},
   "outputs": [],
   "source": [
    "#Learning process and compile\n",
    "model.compile(loss='binary_crossentropy',optimizer=SGD(lr=0.1)) #Stochastic Gradient Descent"
   ]
  },
  {
   "cell_type": "code",
   "execution_count": 14,
   "metadata": {},
   "outputs": [],
   "source": [
    "#training and save the history\n",
    "hist=model.fit(X,Y,epochs=200,verbose=0)"
   ]
  },
  {
   "cell_type": "code",
   "execution_count": 9,
   "metadata": {},
   "outputs": [
    {
     "name": "stdout",
     "output_type": "stream",
     "text": [
      "classified:\n",
      " [[False]\n",
      " [ True]\n",
      " [ True]\n",
      " [ True]]\n",
      "output probability: \n",
      " [[0.5332213 ]\n",
      " [0.87477803]\n",
      " [0.7912561 ]\n",
      " [0.9586445 ]]\n",
      "loss:\n",
      " 0.29301342368125916\n"
     ]
    }
   ],
   "source": [
    "#evaluation (classes, probability, loss)\n",
    "\n",
    "classes = model.predict_classes(X,verbose=0)\n",
    "print(\"classified:\\n\",Y==classes)\n",
    "\n",
    "prob=model.predict_proba(X,verbose=0)\n",
    "print(\"output probability: \\n\",prob)\n",
    "\n",
    "loss=model.evaluate(X,Y,verbose=0)\n",
    "print(\"loss:\\n\",loss)"
   ]
  },
  {
   "cell_type": "code",
   "execution_count": 12,
   "metadata": {},
   "outputs": [
    {
     "name": "stdout",
     "output_type": "stream",
     "text": [
      "dict_keys(['loss'])\n"
     ]
    }
   ],
   "source": [
    "print(hist.history.keys())"
   ]
  },
  {
   "cell_type": "code",
   "execution_count": 17,
   "metadata": {},
   "outputs": [
    {
     "name": "stdout",
     "output_type": "stream",
     "text": [
      "[0.29301342 0.292294   0.29157785 0.29086486 0.29015499 0.28944829\n",
      " 0.28874472 0.28804424 0.28734684 0.28665248 0.28596121 0.28527296\n",
      " 0.28458771 0.28390548 0.28322616 0.28254986 0.28187647 0.28120601\n",
      " 0.28053847 0.27987379 0.279212   0.27855307 0.277897   0.27724367\n",
      " 0.27659315 0.27594551 0.27530056 0.27465841 0.274019   0.27338225\n",
      " 0.27274823 0.2721169  0.27148831 0.27086231 0.270239   0.26961824\n",
      " 0.26900014 0.26838464 0.26777175 0.26716137 0.26655358 0.26594839\n",
      " 0.26534563 0.26474535 0.26414764 0.2635524  0.2629596  0.26236925\n",
      " 0.26178145 0.26119596 0.26061288 0.26003221 0.25945392 0.25887805\n",
      " 0.25830445 0.25773326 0.25716442 0.25659779 0.25603357 0.25547156\n",
      " 0.25491187 0.25435445 0.25379926 0.25324631 0.25269556 0.25214708\n",
      " 0.25160077 0.25105667 0.25051469 0.24997495 0.24943738 0.24890183\n",
      " 0.2483685  0.24783725 0.24730811 0.24678105 0.24625614 0.24573325\n",
      " 0.24521235 0.24469358 0.24417681 0.2436621  0.24314943 0.24263871\n",
      " 0.24212997 0.24162325 0.24111848 0.24061568 0.24011481 0.23961587\n",
      " 0.23911887 0.23862378 0.23813055 0.23763928 0.23714986 0.23666233\n",
      " 0.2361767  0.23569289 0.23521087 0.2347308  0.23425245 0.23377597\n",
      " 0.2333013  0.23282835 0.23235725 0.23188794 0.23142035 0.23095454\n",
      " 0.23049051 0.23002814 0.22956751 0.22910866 0.22865151 0.22819602\n",
      " 0.22774222 0.22729015 0.22683971 0.22639099 0.22594383 0.22549838\n",
      " 0.22505456 0.22461241 0.22417185 0.22373283 0.22329554 0.22285977\n",
      " 0.22242555 0.221993   0.22156198 0.22113253 0.2207046  0.22027831\n",
      " 0.21985348 0.21943021 0.21900845 0.2185882  0.21816944 0.21775219\n",
      " 0.21733645 0.21692219 0.2165094  0.21609806 0.2156882  0.21527983\n",
      " 0.21487285 0.21446732 0.21406321 0.21366055 0.21325925 0.21285947\n",
      " 0.21246105 0.212064   0.21166837 0.21127407 0.21088117 0.21048966\n",
      " 0.21009946 0.20971066 0.20932317 0.20893699 0.20855224 0.20816875\n",
      " 0.20778662 0.20740572 0.2070262  0.20664796 0.20627101 0.20589535\n",
      " 0.20552102 0.20514788 0.20477606 0.2044055  0.20403616 0.20366815\n",
      " 0.20330131 0.20293571 0.20257136 0.20220822 0.20184635 0.20148563\n",
      " 0.20112611 0.20076784 0.20041077 0.20005485 0.19970015 0.19934657\n",
      " 0.19899417 0.19864301 0.19829296 0.19794407 0.1975964  0.19724979\n",
      " 0.1969043  0.19655997 0.19621682 0.19587477 0.1955338  0.19519392\n",
      " 0.19485526 0.1945176 ]\n"
     ]
    }
   ],
   "source": [
    "#List\n",
    "\n",
    "hist_loss=np.array(hist.history['loss'])\n",
    "print(hist_loss)"
   ]
  },
  {
   "cell_type": "code",
   "execution_count": 19,
   "metadata": {},
   "outputs": [
    {
     "data": {
      "image/png": "[encoded data removed]",
      "text/plain": [
       "<Figure size 432x288 with 1 Axes>"
      ]
     },
     "metadata": {},
     "output_type": "display_data"
    }
   ],
   "source": [
    "plt.plot(hist_loss)\n",
    "plt.title('graph of loss function')\n",
    "plt.xlabel('the number of epochs')\n",
    "plt.ylabel('loss')\n",
    "\n",
    "plt.show()"
   ]
  },
  {
   "cell_type": "markdown",
   "metadata": {},
   "source": [
    "### XOR Gate ( one hidden layer)"
   ]
  },
  {
   "cell_type": "code",
   "execution_count": 2,
   "metadata": {},
   "outputs": [
    {
     "name": "stderr",
     "output_type": "stream",
     "text": [
      "Using TensorFlow backend.\n"
     ]
    }
   ],
   "source": [
    "import numpy as np\n",
    "\n",
    "\n",
    "from keras.models import Sequential\n",
    "from keras.layers import Dense, Activation\n",
    "from keras.optimizers import SGD"
   ]
  },
  {
   "cell_type": "code",
   "execution_count": 4,
   "metadata": {},
   "outputs": [],
   "source": [
    "#XOR Data\n",
    "X=np.array([[0,0],[0,1],[1,0],[1,1]])\n",
    "Y=np.array([[0],[1],[1],[0]])"
   ]
  },
  {
   "cell_type": "code",
   "execution_count": 5,
   "metadata": {},
   "outputs": [],
   "source": [
    "in_dim=2\n",
    "out_dim=1\n",
    "h_dim=2"
   ]
  },
  {
   "cell_type": "code",
   "execution_count": 6,
   "metadata": {},
   "outputs": [
    {
     "name": "stdout",
     "output_type": "stream",
     "text": [
      "_________________________________________________________________\n",
      "Layer (type)                 Output Shape              Param #   \n",
      "=================================================================\n",
      "dense_1 (Dense)              (None, 2)                 6         \n",
      "_________________________________________________________________\n",
      "dense_2 (Dense)              (None, 1)                 3         \n",
      "=================================================================\n",
      "Total params: 9\n",
      "Trainable params: 9\n",
      "Non-trainable params: 0\n",
      "_________________________________________________________________\n"
     ]
    }
   ],
   "source": [
    "#model\n",
    "\n",
    "model=Sequential()\n",
    "model.add(Dense(input_dim=in_dim, units=h_dim, activation='sigmoid'))\n",
    "model.add(Dense(units=out_dim, activation='sigmoid'))\n",
    "\n",
    "model.summary()"
   ]
  },
  {
   "cell_type": "code",
   "execution_count": 7,
   "metadata": {},
   "outputs": [],
   "source": [
    "#compile\n",
    "lrate=0.1 # learning rate\n",
    "\n",
    "model.compile(loss='binary_crossentropy', optimizer=SGD(lrate))"
   ]
  },
  {
   "cell_type": "code",
   "execution_count": 8,
   "metadata": {},
   "outputs": [],
   "source": [
    "#learning process\n",
    "n_epochs=10000 # the number of epochs\n",
    "\n",
    "hist=model.fit(X,Y,epochs=n_epochs, verbose=0)"
   ]
  },
  {
   "cell_type": "code",
   "execution_count": 9,
   "metadata": {},
   "outputs": [
    {
     "name": "stdout",
     "output_type": "stream",
     "text": [
      "classified: \n",
      " [[ True]\n",
      " [ True]\n",
      " [ True]\n",
      " [ True]]\n",
      "output probability: \n",
      " [[0.01546427]\n",
      " [0.98803186]\n",
      " [0.9882812 ]\n",
      " [0.01329499]]\n",
      "loss: \n",
      " 0.013199400156736374\n"
     ]
    }
   ],
   "source": [
    "classes=model.predict_classes(X,verbose=0)\n",
    "print(\"classified: \\n\", Y==classes)\n",
    "\n",
    "prob=model.predict_proba(X,verbose=0)\n",
    "print(\"output probability: \\n\", prob)\n",
    "\n",
    "loss=model.evaluate(X,Y,verbose=0)\n",
    "print(\"loss: \\n\", loss)"
   ]
  },
  {
   "cell_type": "code",
   "execution_count": 10,
   "metadata": {},
   "outputs": [
    {
     "name": "stdout",
     "output_type": "stream",
     "text": [
      "dict_keys(['loss'])\n"
     ]
    }
   ],
   "source": [
    "print(hist.history.keys())"
   ]
  },
  {
   "cell_type": "code",
   "execution_count": 13,
   "metadata": {},
   "outputs": [
    {
     "data": {
      "image/png": "[encoded data removed]",
      "text/plain": [
       "<Figure size 432x288 with 1 Axes>"
      ]
     },
     "metadata": {},
     "output_type": "display_data"
    }
   ],
   "source": [
    "hist_loss=np.array(hist.history['loss'])\n",
    "\n",
    "plt.plot(hist_loss)\n",
    "plt.xlabel('the number of epochs')\n",
    "plt.ylabel('loss')\n",
    "\n",
    "plt.show()"
   ]
  },
  {
   "cell_type": "markdown",
   "metadata": {},
   "source": [
    "### IRIS Data (Multi-class Classification)"
   ]
  },
  {
   "cell_type": "code",
   "execution_count": 14,
   "metadata": {},
   "outputs": [],
   "source": [
    "from sklearn.datasets import load_iris\n",
    "from sklearn.model_selection import train_test_split\n"
   ]
  },
  {
   "cell_type": "code",
   "execution_count": 38,
   "metadata": {},
   "outputs": [],
   "source": [
    "iris = load_iris()\n",
    "\n",
    "x=iris.data\n",
    "y=iris.target\n",
    "target_names=iris.target_names"
   ]
  },
  {
   "cell_type": "code",
   "execution_count": 39,
   "metadata": {},
   "outputs": [],
   "source": [
    "X_train, X_test, y_train, y_test=train_test_split(x,y,random_state=10, test_size=0.25)"
   ]
  },
  {
   "cell_type": "code",
   "execution_count": 40,
   "metadata": {},
   "outputs": [],
   "source": [
    "Y_train=np.eye(3)[y_train].astype(int)\n",
    "Y_test=np.eye(3)[y_test].astype(int)"
   ]
  },
  {
   "cell_type": "code",
   "execution_count": 41,
   "metadata": {},
   "outputs": [
    {
     "name": "stdout",
     "output_type": "stream",
     "text": [
      "_________________________________________________________________\n",
      "Layer (type)                 Output Shape              Param #   \n",
      "=================================================================\n",
      "dense_8 (Dense)              (None, 12)                60        \n",
      "_________________________________________________________________\n",
      "activation_5 (Activation)    (None, 12)                0         \n",
      "_________________________________________________________________\n",
      "dense_9 (Dense)              (None, 3)                 39        \n",
      "_________________________________________________________________\n",
      "activation_6 (Activation)    (None, 3)                 0         \n",
      "=================================================================\n",
      "Total params: 99\n",
      "Trainable params: 99\n",
      "Non-trainable params: 0\n",
      "_________________________________________________________________\n"
     ]
    }
   ],
   "source": [
    "#model\n",
    "\n",
    "in_dim=4\n",
    "out_dim=3\n",
    "h_dim=12\n",
    "\n",
    "model=Sequential()\n",
    "model.add(Dense(input_dim=in_dim, units=h_dim))\n",
    "model.add(Activation('sigmoid'))\n",
    "model.add(Dense(units=out_dim))\n",
    "model.add(Activation('softmax'))\n",
    "\n",
    "model.summary()"
   ]
  },
  {
   "cell_type": "code",
   "execution_count": 42,
   "metadata": {},
   "outputs": [],
   "source": [
    "#compile (adding accuracy)\n",
    "lrate=0.1 #learning rate\n",
    "\n",
    "model.compile(loss='categorical_crossentropy', optimizer=SGD(lrate), metrics=['accuracy'])"
   ]
  },
  {
   "cell_type": "code",
   "execution_count": 43,
   "metadata": {},
   "outputs": [],
   "source": [
    "n_epoch=200 \n",
    "hist=model.fit(X_train, Y_train, epochs=n_epochs, verbose=0)"
   ]
  },
  {
   "cell_type": "code",
   "execution_count": 44,
   "metadata": {},
   "outputs": [
    {
     "name": "stdout",
     "output_type": "stream",
     "text": [
      "dict_keys(['loss', 'acc'])\n"
     ]
    }
   ],
   "source": [
    "print(hist.history.keys())"
   ]
  },
  {
   "cell_type": "code",
   "execution_count": 46,
   "metadata": {},
   "outputs": [
    {
     "data": {
      "image/png": "[encoded data removed]",
      "text/plain": [
       "<Figure size 432x288 with 2 Axes>"
      ]
     },
     "metadata": {},
     "output_type": "display_data"
    }
   ],
   "source": [
    "#graph for loss and accuracy\n",
    "hist_loss=np.array(hist.history['loss'])\n",
    "hist_acc=np.array(hist.history['acc'])\n",
    "\n",
    "plt.subplot(121)\n",
    "plt.plot(hist_loss, label='loss')\n",
    "\n",
    "plt.xlabel('the number of epochs')\n",
    "plt.ylabel('loss')\n",
    "plt.title('loss of training set')\n",
    "\n",
    "plt.subplot(122)\n",
    "plt.plot(hist_acc, label='training')\n",
    "\n",
    "plt.xlabel('the number of epochs')\n",
    "plt.ylabel('accuracy')\n",
    "plt.title('Accuracy of Training set')\n",
    "\n",
    "plt.show()"
   ]
  },
  {
   "cell_type": "code",
   "execution_count": 49,
   "metadata": {},
   "outputs": [
    {
     "name": "stdout",
     "output_type": "stream",
     "text": [
      "loss(train, test):\n",
      " 0.0476990473855819 , 0.02785457572654674\n",
      "accuracy(train, test):\n",
      " 0.9910714285714286 , 1.0\n"
     ]
    }
   ],
   "source": [
    "#evaluation (look at the compile process)\n",
    "\n",
    "loss_train, acc_train=model.evaluate(X_train, Y_train, verbose=0)\n",
    "loss_test, acc_test=model.evaluate(X_test, Y_test, verbose=0)\n",
    "\n",
    "print(\"loss(train, test):\\n\" , loss_train, ',',loss_test)\n",
    "print(\"accuracy(train, test):\\n\", acc_train, ',',acc_test)"
   ]
  },
  {
   "cell_type": "code",
   "execution_count": 50,
   "metadata": {},
   "outputs": [
    {
     "name": "stdout",
     "output_type": "stream",
     "text": [
      "[1 2 0 1 0 1 1 1 0 1 1 2 1 0 0 2 1 0 0 0 2 2 2 0 1 0 1 1 1 2 1 1 2 2 2 0 2\n",
      " 2]\n",
      "[1 2 0 1 0 1 1 1 0 1 1 2 1 0 0 2 1 0 0 0 2 2 2 0 1 0 1 1 1 2 1 1 2 2 2 0 2\n",
      " 2]\n"
     ]
    }
   ],
   "source": [
    "classes_test=model.predict_classes(X_test, verbose=0)\n",
    "\n",
    "print(classes_test)\n",
    "print(y_test)"
   ]
  },
  {
   "cell_type": "markdown",
   "metadata": {},
   "source": [
    "### Get weights and biases"
   ]
  },
  {
   "cell_type": "code",
   "execution_count": 51,
   "metadata": {},
   "outputs": [
    {
     "name": "stdout",
     "output_type": "stream",
     "text": [
      "(4,)\n"
     ]
    }
   ],
   "source": [
    "weight=np.array(model.get_weights())\n",
    "#model.get_weight(): a list\n",
    "print(weight.shape)"
   ]
  },
  {
   "cell_type": "code",
   "execution_count": 52,
   "metadata": {},
   "outputs": [
    {
     "name": "stdout",
     "output_type": "stream",
     "text": [
      "(4, 12)\n",
      "[[-0.65261114 -0.32958612 -0.934242    1.9377313  -0.3331038   0.8750049\n",
      "  -0.05737723  0.54010767 -0.01964362  0.41156092 -0.6343358  -1.7327766 ]\n",
      " [-1.1508697  -0.5501206  -0.11027557  0.8274294  -1.2064295   0.4416682\n",
      "  -0.5673592   1.2018328   6.032587   -0.1447766  -0.30505505  0.41560942]\n",
      " [ 2.478503   -0.23310354  1.0559891  -2.7587545   1.7058262  -1.159011\n",
      "   0.38267466 -2.2390409  -3.425956   -0.6709507  -0.62141025  1.9227788 ]\n",
      " [ 0.8920236  -0.08958221  1.9635782  -3.220806    1.22994    -2.0824988\n",
      "  -1.0765721  -1.1632909  -3.4406655  -0.4845     -0.11711686  2.2150257 ]]\n",
      "(12,)\n",
      "[-0.270266   -0.01232982 -1.5082517   3.1994536  -0.26507849  1.6332005\n",
      "  0.9197697   0.21422969  3.6613643   0.57495666 -0.04254406 -2.0794911 ]\n",
      "(12, 3)\n",
      "[[-3.5702846   2.2280312   1.0789845 ]\n",
      " [-0.49927783 -0.13500522 -0.32031137]\n",
      " [-1.3998522  -0.48641735  2.6459    ]\n",
      " [ 2.7009876   2.1113214  -4.286465  ]\n",
      " [-3.0590854   1.6077745   1.64998   ]\n",
      " [ 2.5952928   0.02209258 -3.4873323 ]\n",
      " [ 0.50230664  1.1051794  -1.3015107 ]\n",
      " [ 3.4675715  -2.2630248  -0.5410773 ]\n",
      " [ 2.2151363   3.7236793  -5.640336  ]\n",
      " [ 1.0513688   0.3356201  -1.0589988 ]\n",
      " [-0.39502823  0.13699041  0.48670003]\n",
      " [-1.3761321  -1.4929943   3.040261  ]]\n",
      "(3,)\n",
      "[ 0.41456166 -0.35783485 -0.05672157]\n"
     ]
    }
   ],
   "source": [
    "for k in range(4):\n",
    "    print(weight[k].shape)\n",
    "    print(weight[k])"
   ]
  }
 ],
 "metadata": {
  "kernelspec": {
   "display_name": "Python 3",
   "language": "python",
   "name": "python3"
  },
  "language_info": {
   "codemirror_mode": {
    "name": "ipython",
    "version": 3
   },
   "file_extension": ".py",
   "mimetype": "text/x-python",
   "name": "python",
   "nbconvert_exporter": "python",
   "pygments_lexer": "ipython3",
   "version": "3.6.6"
  }
 },
 "nbformat": 4,
 "nbformat_minor": 2
}
