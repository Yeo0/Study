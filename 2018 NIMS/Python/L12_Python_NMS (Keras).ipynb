{
 "cells": [
  {
   "cell_type": "code",
   "execution_count": 3,
   "metadata": {},
   "outputs": [
    {
     "name": "stderr",
     "output_type": "stream",
     "text": [
      "Using TensorFlow backend.\n"
     ]
    }
   ],
   "source": [
    "import numpy as np\n",
    "import matplotlib.pyplot as plt\n",
    "import tensorflow as tf\n",
    "\n",
    "from keras.models import Sequential\n",
    "from keras.layers import Dense, Activation\n",
    "from keras.optimizers import SGD"
   ]
  },
  {
   "cell_type": "markdown",
   "metadata": {},
   "source": [
    "### Or Gate (no hidden layer)"
   ]
  },
  {
   "cell_type": "code",
   "execution_count": 7,
   "metadata": {},
   "outputs": [],
   "source": [
    "#Or data\n",
    "X=np.array([[0,0],[0,1],[1,0],[1,1]])\n",
    "Y=np.array([[0],[1],[1],[1]])"
   ]
  },
  {
   "cell_type": "markdown",
   "metadata": {},
   "source": [
    "- model (including learning process and evaluation methods), training, evaluting"
   ]
  },
  {
   "cell_type": "code",
   "execution_count": 3,
   "metadata": {},
   "outputs": [],
   "source": [
    "model=Sequential([\n",
    "    Dense(input_dim=2,units=1), #units: output\n",
    "    Activation('sigmoid') #activation function\n",
    "])"
   ]
  },
  {
   "cell_type": "code",
   "execution_count": 4,
   "metadata": {},
   "outputs": [
    {
     "name": "stdout",
     "output_type": "stream",
     "text": [
      "_________________________________________________________________\n",
      "Layer (type)                 Output Shape              Param #   \n",
      "=================================================================\n",
      "dense_1 (Dense)              (None, 1)                 3         \n",
      "_________________________________________________________________\n",
      "activation_1 (Activation)    (None, 1)                 0         \n",
      "=================================================================\n",
      "Total params: 3\n",
      "Trainable params: 3\n",
      "Non-trainable params: 0\n",
      "_________________________________________________________________\n"
     ]
    }
   ],
   "source": [
    "model.summary()"
   ]
  },
  {
   "cell_type": "code",
   "execution_count": 7,
   "metadata": {},
   "outputs": [],
   "source": [
    "#Setting learning process (loss function, optimizer)\n",
    "\n",
    "model.compile(loss='binary_crossentropy',optimizer=SGD(lr=0.1))"
   ]
  },
  {
   "cell_type": "code",
   "execution_count": 8,
   "metadata": {},
   "outputs": [
    {
     "name": "stdout",
     "output_type": "stream",
     "text": [
      "4/4 [==============================] - 0s 9ms/step\n",
      "classified:\n",
      " [[ True]\n",
      " [False]\n",
      " [False]\n",
      " [False]]\n",
      "4/4 [==============================] - 0s 275us/step\n",
      "output probability:\n",
      " [[0.5       ]\n",
      " [0.42188305]\n",
      " [0.28759977]\n",
      " [0.22756395]]\n"
     ]
    }
   ],
   "source": [
    "#Checking before training\n",
    "#(.predict_classes, .predict_prob)\n",
    "\n",
    "classes=model.predict_classes(X,verbose=1) #1에 속하냐 마냐\n",
    "print(\"classified:\\n\",Y==classes)\n",
    "\n",
    "prob=model.predict_proba(X,verbose=1) #1에 속할 확률\n",
    "print(\"output probability:\\n\",prob)"
   ]
  },
  {
   "cell_type": "code",
   "execution_count": 9,
   "metadata": {},
   "outputs": [
    {
     "name": "stdout",
     "output_type": "stream",
     "text": [
      "4/4 [==============================] - 0s 8ms/step\n",
      "loss:\n",
      " 1.0706708431243896\n"
     ]
    }
   ],
   "source": [
    "#using evaluate (look at the compile process)\n",
    "loss=model.evaluate(X,Y,verbose=1)\n",
    "print('loss:\\n',loss)"
   ]
  },
  {
   "cell_type": "code",
   "execution_count": 10,
   "metadata": {},
   "outputs": [
    {
     "data": {
      "text/plain": [
       "<keras.callbacks.History at 0xb22453780>"
      ]
     },
     "execution_count": 10,
     "metadata": {},
     "output_type": "execute_result"
    }
   ],
   "source": [
    "#Training (Learning)\n",
    "model.fit(X,Y,epochs=200,verbose=0) #verbose=logging / 0: 없음 / 1:progress bar / 2: epoch 당"
   ]
  },
  {
   "cell_type": "code",
   "execution_count": 11,
   "metadata": {},
   "outputs": [
    {
     "name": "stdout",
     "output_type": "stream",
     "text": [
      "classified:\n",
      " [[ True]\n",
      " [False]\n",
      " [False]\n",
      " [False]]\n",
      "output probability:\n",
      " [[0.5427223 ]\n",
      " [0.8496691 ]\n",
      " [0.8148713 ]\n",
      " [0.95446545]]\n",
      "loss:\n",
      " 0.2991753816604614\n"
     ]
    }
   ],
   "source": [
    "#Result\n",
    "classe=model.predict_classes(X,verbose=0)\n",
    "print('classified:\\n',Y==classes)\n",
    "\n",
    "prob=model.predict_proba(X,verbose=0)\n",
    "print('output probability:\\n',prob)\n",
    "\n",
    "loss=model.evaluate(X,Y,verbose=0)\n",
    "print(\"loss:\\n\",loss)"
   ]
  },
  {
   "cell_type": "markdown",
   "metadata": {},
   "source": [
    "### Model을 정의하는 다른 방법 (a typical way)"
   ]
  },
  {
   "cell_type": "code",
   "execution_count": 4,
   "metadata": {},
   "outputs": [
    {
     "name": "stdout",
     "output_type": "stream",
     "text": [
      "_________________________________________________________________\n",
      "Layer (type)                 Output Shape              Param #   \n",
      "=================================================================\n",
      "dense_1 (Dense)              (None, 1)                 3         \n",
      "_________________________________________________________________\n",
      "activation_1 (Activation)    (None, 1)                 0         \n",
      "=================================================================\n",
      "Total params: 3\n",
      "Trainable params: 3\n",
      "Non-trainable params: 0\n",
      "_________________________________________________________________\n"
     ]
    }
   ],
   "source": [
    "#another way to define the model\n",
    "\n",
    "model=Sequential()\n",
    "model.add(Dense(input_dim=2,units=1))\n",
    "model.add(Activation('sigmoid'))\n",
    "\n",
    "model.summary()"
   ]
  },
  {
   "cell_type": "code",
   "execution_count": 5,
   "metadata": {},
   "outputs": [],
   "source": [
    "#Learning process and compile\n",
    "model.compile(loss='binary_crossentropy',optimizer=SGD(lr=0.1)) #Stochastic Gradient Descent"
   ]
  },
  {
   "cell_type": "code",
   "execution_count": 14,
   "metadata": {},
   "outputs": [],
   "source": [
    "#training and save the history\n",
    "hist=model.fit(X,Y,epochs=200,verbose=0)"
   ]
  },
  {
   "cell_type": "code",
   "execution_count": 9,
   "metadata": {},
   "outputs": [
    {
     "name": "stdout",
     "output_type": "stream",
     "text": [
      "classified:\n",
      " [[False]\n",
      " [ True]\n",
      " [ True]\n",
      " [ True]]\n",
      "output probability: \n",
      " [[0.5332213 ]\n",
      " [0.87477803]\n",
      " [0.7912561 ]\n",
      " [0.9586445 ]]\n",
      "loss:\n",
      " 0.29301342368125916\n"
     ]
    }
   ],
   "source": [
    "#evaluation (classes, probability, loss)\n",
    "\n",
    "classes = model.predict_classes(X,verbose=0)\n",
    "print(\"classified:\\n\",Y==classes)\n",
    "\n",
    "prob=model.predict_proba(X,verbose=0)\n",
    "print(\"output probability: \\n\",prob)\n",
    "\n",
    "loss=model.evaluate(X,Y,verbose=0)\n",
    "print(\"loss:\\n\",loss)"
   ]
  },
  {
   "cell_type": "code",
   "execution_count": 12,
   "metadata": {},
   "outputs": [
    {
     "name": "stdout",
     "output_type": "stream",
     "text": [
      "dict_keys(['loss'])\n"
     ]
    }
   ],
   "source": [
    "print(hist.history.keys())"
   ]
  },
  {
   "cell_type": "code",
   "execution_count": 17,
   "metadata": {},
   "outputs": [
    {
     "name": "stdout",
     "output_type": "stream",
     "text": [
      "[0.29301342 0.292294   0.29157785 0.29086486 0.29015499 0.28944829\n",
      " 0.28874472 0.28804424 0.28734684 0.28665248 0.28596121 0.28527296\n",
      " 0.28458771 0.28390548 0.28322616 0.28254986 0.28187647 0.28120601\n",
      " 0.28053847 0.27987379 0.279212   0.27855307 0.277897   0.27724367\n",
      " 0.27659315 0.27594551 0.27530056 0.27465841 0.274019   0.27338225\n",
      " 0.27274823 0.2721169  0.27148831 0.27086231 0.270239   0.26961824\n",
      " 0.26900014 0.26838464 0.26777175 0.26716137 0.26655358 0.26594839\n",
      " 0.26534563 0.26474535 0.26414764 0.2635524  0.2629596  0.26236925\n",
      " 0.26178145 0.26119596 0.26061288 0.26003221 0.25945392 0.25887805\n",
      " 0.25830445 0.25773326 0.25716442 0.25659779 0.25603357 0.25547156\n",
      " 0.25491187 0.25435445 0.25379926 0.25324631 0.25269556 0.25214708\n",
      " 0.25160077 0.25105667 0.25051469 0.24997495 0.24943738 0.24890183\n",
      " 0.2483685  0.24783725 0.24730811 0.24678105 0.24625614 0.24573325\n",
      " 0.24521235 0.24469358 0.24417681 0.2436621  0.24314943 0.24263871\n",
      " 0.24212997 0.24162325 0.24111848 0.24061568 0.24011481 0.23961587\n",
      " 0.23911887 0.23862378 0.23813055 0.23763928 0.23714986 0.23666233\n",
      " 0.2361767  0.23569289 0.23521087 0.2347308  0.23425245 0.23377597\n",
      " 0.2333013  0.23282835 0.23235725 0.23188794 0.23142035 0.23095454\n",
      " 0.23049051 0.23002814 0.22956751 0.22910866 0.22865151 0.22819602\n",
      " 0.22774222 0.22729015 0.22683971 0.22639099 0.22594383 0.22549838\n",
      " 0.22505456 0.22461241 0.22417185 0.22373283 0.22329554 0.22285977\n",
      " 0.22242555 0.221993   0.22156198 0.22113253 0.2207046  0.22027831\n",
      " 0.21985348 0.21943021 0.21900845 0.2185882  0.21816944 0.21775219\n",
      " 0.21733645 0.21692219 0.2165094  0.21609806 0.2156882  0.21527983\n",
      " 0.21487285 0.21446732 0.21406321 0.21366055 0.21325925 0.21285947\n",
      " 0.21246105 0.212064   0.21166837 0.21127407 0.21088117 0.21048966\n",
      " 0.21009946 0.20971066 0.20932317 0.20893699 0.20855224 0.20816875\n",
      " 0.20778662 0.20740572 0.2070262  0.20664796 0.20627101 0.20589535\n",
      " 0.20552102 0.20514788 0.20477606 0.2044055  0.20403616 0.20366815\n",
      " 0.20330131 0.20293571 0.20257136 0.20220822 0.20184635 0.20148563\n",
      " 0.20112611 0.20076784 0.20041077 0.20005485 0.19970015 0.19934657\n",
      " 0.19899417 0.19864301 0.19829296 0.19794407 0.1975964  0.19724979\n",
      " 0.1969043  0.19655997 0.19621682 0.19587477 0.1955338  0.19519392\n",
      " 0.19485526 0.1945176 ]\n"
     ]
    }
   ],
   "source": [
    "#List\n",
    "\n",
    "hist_loss=np.array(hist.history['loss'])\n",
    "print(hist_loss)"
   ]
  },
  {
   "cell_type": "code",
   "execution_count": 19,
   "metadata": {},
   "outputs": [
    {
     "data": {
      "image/png": "[encoded data removed]",
      "text/plain": [
       "<Figure size 432x288 with 1 Axes>"
      ]
     },
     "metadata": {},
     "output_type": "display_data"
    }
   ],
   "source": [
    "plt.plot(hist_loss)\n",
    "plt.title('graph of loss function')\n",
    "plt.xlabel('the number of epochs')\n",
    "plt.ylabel('loss')\n",
    "\n",
    "plt.show()"
   ]
  },
  {
   "cell_type": "markdown",
   "metadata": {},
   "source": [
    "### XOR Gate ( one hidden layer)"
   ]
  },
  {
   "cell_type": "code",
   "execution_count": null,
   "metadata": {},
   "outputs": [],
   "source": [
    "import numpy as np\n",
    "\n",
    "\n",
    "from keras.models import Sequential\n",
    "from keras.layers import Dense, Activation\n",
    "from keras.optimizers import SGD"
   ]
  },
  {
   "cell_type": "code",
   "execution_count": null,
   "metadata": {},
   "outputs": [],
   "source": [
    "#XOR Data\n",
    "X=np.array()"
   ]
  },
  {
   "cell_type": "code",
   "execution_count": null,
   "metadata": {},
   "outputs": [],
   "source": []
  }
 ],
 "metadata": {
  "kernelspec": {
   "display_name": "Python 3",
   "language": "python",
   "name": "python3"
  },
  "language_info": {
   "codemirror_mode": {
    "name": "ipython",
    "version": 3
   },
   "file_extension": ".py",
   "mimetype": "text/x-python",
   "name": "python",
   "nbconvert_exporter": "python",
   "pygments_lexer": "ipython3",
   "version": "3.6.6"
  }
 },
 "nbformat": 4,
 "nbformat_minor": 2
}
