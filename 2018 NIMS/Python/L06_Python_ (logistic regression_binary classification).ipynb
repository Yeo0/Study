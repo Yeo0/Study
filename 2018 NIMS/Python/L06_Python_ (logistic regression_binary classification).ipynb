{
 "cells": [
  {
   "cell_type": "code",
   "execution_count": 1,
   "metadata": {},
   "outputs": [],
   "source": [
    "import numpy as np\n",
    "import matplotlib.pyplot as plt\n",
    "import pandas as pd\n",
    "\n",
    "from sklearn.model_selection import train_test_split\n",
    "from sklearn.linear_model import LogisticRegression"
   ]
  },
  {
   "cell_type": "markdown",
   "metadata": {},
   "source": [
    "### Data"
   ]
  },
  {
   "cell_type": "code",
   "execution_count": 2,
   "metadata": {},
   "outputs": [],
   "source": [
    "df = pd.read_csv(\"binary_class_data1.csv\",sep=\",\")"
   ]
  },
  {
   "cell_type": "code",
   "execution_count": 3,
   "metadata": {},
   "outputs": [
    {
     "data": {
      "text/html": [
       "<div>\n",
       "<style scoped>\n",
       "    .dataframe tbody tr th:only-of-type {\n",
       "        vertical-align: middle;\n",
       "    }\n",
       "\n",
       "    .dataframe tbody tr th {\n",
       "        vertical-align: top;\n",
       "    }\n",
       "\n",
       "    .dataframe thead th {\n",
       "        text-align: right;\n",
       "    }\n",
       "</style>\n",
       "<table border=\"1\" class=\"dataframe\">\n",
       "  <thead>\n",
       "    <tr style=\"text-align: right;\">\n",
       "      <th></th>\n",
       "      <th>x1 values</th>\n",
       "      <th>x2 values</th>\n",
       "      <th>target values</th>\n",
       "    </tr>\n",
       "  </thead>\n",
       "  <tbody>\n",
       "    <tr>\n",
       "      <th>0</th>\n",
       "      <td>2.133086</td>\n",
       "      <td>0.184238</td>\n",
       "      <td>1</td>\n",
       "    </tr>\n",
       "    <tr>\n",
       "      <th>1</th>\n",
       "      <td>1.733531</td>\n",
       "      <td>-1.013260</td>\n",
       "      <td>1</td>\n",
       "    </tr>\n",
       "    <tr>\n",
       "      <th>2</th>\n",
       "      <td>4.658049</td>\n",
       "      <td>1.220892</td>\n",
       "      <td>1</td>\n",
       "    </tr>\n",
       "    <tr>\n",
       "      <th>3</th>\n",
       "      <td>1.164643</td>\n",
       "      <td>0.096678</td>\n",
       "      <td>1</td>\n",
       "    </tr>\n",
       "    <tr>\n",
       "      <th>4</th>\n",
       "      <td>5.655043</td>\n",
       "      <td>-2.239823</td>\n",
       "      <td>0</td>\n",
       "    </tr>\n",
       "  </tbody>\n",
       "</table>\n",
       "</div>"
      ],
      "text/plain": [
       "   x1 values  x2 values  target values\n",
       "0   2.133086   0.184238              1\n",
       "1   1.733531  -1.013260              1\n",
       "2   4.658049   1.220892              1\n",
       "3   1.164643   0.096678              1\n",
       "4   5.655043  -2.239823              0"
      ]
     },
     "execution_count": 3,
     "metadata": {},
     "output_type": "execute_result"
    }
   ],
   "source": [
    "df.head()"
   ]
  },
  {
   "cell_type": "code",
   "execution_count": 4,
   "metadata": {},
   "outputs": [],
   "source": [
    "x=df.values[:,0:2]\n",
    "y=df.values[:,2]"
   ]
  },
  {
   "cell_type": "code",
   "execution_count": 5,
   "metadata": {},
   "outputs": [],
   "source": [
    "X_train,X_test,y_train,y_test=train_test_split(x,y,random_state=21,test_size=0.25)"
   ]
  },
  {
   "cell_type": "code",
   "execution_count": 7,
   "metadata": {},
   "outputs": [
    {
     "data": {
      "image/png": "[encoded data removed]",
      "text/plain": [
       "<Figure size 432x288 with 1 Axes>"
      ]
     },
     "metadata": {},
     "output_type": "display_data"
    }
   ],
   "source": [
    "plt.scatter(X_train[y_train==0,0],X_train[y_train==0,1],color='b',marker='o',label='class0')\n",
    "plt.scatter(X_train[y_train==1,0],X_train[y_train==1,1],color='k',marker='^',label='class1')\n",
    "\n",
    "plt.legend()\n",
    "plt.title('Binary Class Data')\n",
    "plt.show()"
   ]
  },
  {
   "cell_type": "markdown",
   "metadata": {},
   "source": [
    "### Logistic Regression"
   ]
  },
  {
   "cell_type": "code",
   "execution_count": 8,
   "metadata": {},
   "outputs": [],
   "source": [
    "#define model\n",
    "logReg=LogisticRegression(C=1.0) # C=parameter /inverse of regularization strength\n",
    "                                 # 지정하지 않으면 defalut =1\n",
    "                                 # C가 작으면 잘 안맞고 크면 클수록 잘맞음 (overfitting 가능성)\n",
    "                                 # C의 범위는?\n",
    "\n",
    "#default penalty=12\n",
    "#apply various C values\n"
   ]
  },
  {
   "cell_type": "code",
   "execution_count": 9,
   "metadata": {},
   "outputs": [
    {
     "data": {
      "text/plain": [
       "LogisticRegression(C=1.0, class_weight=None, dual=False, fit_intercept=True,\n",
       "          intercept_scaling=1, max_iter=100, multi_class='ovr', n_jobs=1,\n",
       "          penalty='l2', random_state=None, solver='liblinear', tol=0.0001,\n",
       "          verbose=0, warm_start=False)"
      ]
     },
     "execution_count": 9,
     "metadata": {},
     "output_type": "execute_result"
    }
   ],
   "source": [
    "#leraning\n",
    "logReg.fit(X_train,y_train)\n"
   ]
  },
  {
   "cell_type": "code",
   "execution_count": 11,
   "metadata": {},
   "outputs": [
    {
     "name": "stdout",
     "output_type": "stream",
     "text": [
      "[[0.16040595 0.83959405]\n",
      " [0.7881933  0.2118067 ]\n",
      " [0.22205203 0.77794797]\n",
      " [0.63841834 0.36158166]\n",
      " [0.79186771 0.20813229]\n",
      " [0.12732816 0.87267184]\n",
      " [0.29400259 0.70599741]\n",
      " [0.22854512 0.77145488]\n",
      " [0.42179667 0.57820333]\n",
      " [0.39082951 0.60917049]\n",
      " [0.2872023  0.7127977 ]\n",
      " [0.65271991 0.34728009]\n",
      " [0.50376494 0.49623506]\n",
      " [0.89839911 0.10160089]\n",
      " [0.3759228  0.6240772 ]\n",
      " [0.04780578 0.95219422]\n",
      " [0.38859274 0.61140726]\n",
      " [0.23992103 0.76007897]\n",
      " [0.35445105 0.64554895]\n",
      " [0.93664586 0.06335414]\n",
      " [0.25189886 0.74810114]\n",
      " [0.89337102 0.10662898]\n",
      " [0.62581149 0.37418851]\n",
      " [0.68398616 0.31601384]\n",
      " [0.80055273 0.19944727]\n",
      " [0.89489722 0.10510278]\n",
      " [0.13937265 0.86062735]]\n"
     ]
    }
   ],
   "source": [
    "y_train_proba=logReg.predict_proba(X_train) #?\n",
    "print(y_train_proba)"
   ]
  },
  {
   "cell_type": "code",
   "execution_count": 12,
   "metadata": {},
   "outputs": [
    {
     "name": "stdout",
     "output_type": "stream",
     "text": [
      "0.33991791366260304\n"
     ]
    }
   ],
   "source": [
    "train_error=-np.mean(y_train*np.log(y_train_proba[:,1])+(1-y_train)*np.log(1-y_train_proba[:,1]))\n",
    "\n",
    "print(train_error)"
   ]
  },
  {
   "cell_type": "code",
   "execution_count": 13,
   "metadata": {},
   "outputs": [
    {
     "name": "stdout",
     "output_type": "stream",
     "text": [
      "[ 0.  0.  0.  0.  0.  0.  0.  0.  1.  0.  0. -1. -1.  0.  0.  0.  0.  0.\n",
      "  0.  0.  0.  0.  0.  0.  0.  0.  0.]\n"
     ]
    }
   ],
   "source": [
    "#prediciton\n",
    "y_train_pred=logReg.predict(X_train)\n",
    "print(y_train_pred-y_train)"
   ]
  },
  {
   "cell_type": "code",
   "execution_count": 14,
   "metadata": {},
   "outputs": [
    {
     "name": "stdout",
     "output_type": "stream",
     "text": [
      "[[0.35072712 0.64927288]\n",
      " [0.33203146 0.66796854]\n",
      " [0.94042798 0.05957202]\n",
      " [0.90060422 0.09939578]\n",
      " [0.13872931 0.86127069]\n",
      " [0.63040923 0.36959077]\n",
      " [0.2983549  0.7016451 ]\n",
      " [0.92555724 0.07444276]\n",
      " [0.75271405 0.24728595]]\n",
      "0.2586683617898538\n"
     ]
    }
   ],
   "source": [
    "#for the test set\n",
    "y_test_proba=logReg.predict_proba(X_test)\n",
    "print(y_test_proba)\n",
    "test_error=-np.mean(y_test*np.log(y_test_proba[:,1])+(1-y_test)*np.log(1-y_test_proba[:,1]))\n",
    "print(test_error)"
   ]
  },
  {
   "cell_type": "code",
   "execution_count": 15,
   "metadata": {},
   "outputs": [
    {
     "name": "stdout",
     "output_type": "stream",
     "text": [
      "[1. 1. 0. 0. 1. 0. 1. 0. 0.]\n",
      "[0. 0. 0. 0. 0. 0. 0. 0. 0.]\n"
     ]
    }
   ],
   "source": [
    "y_test_pred=logReg.predict(X_test)\n",
    "print(y_test_pred)\n",
    "print(y_test_pred-y_test)"
   ]
  },
  {
   "cell_type": "code",
   "execution_count": 16,
   "metadata": {},
   "outputs": [
    {
     "name": "stdout",
     "output_type": "stream",
     "text": [
      "[[-0.25615684  0.88396689]]\n",
      "[2.03875516]\n"
     ]
    }
   ],
   "source": [
    "#Attributes\n",
    "print(logReg.coef_) #계수\n",
    "print(logReg.intercept_) #Y절편"
   ]
  },
  {
   "cell_type": "code",
   "execution_count": 19,
   "metadata": {},
   "outputs": [
    {
     "data": {
      "image/png": "[encoded data removed]",
      "text/plain": [
       "<Figure size 432x288 with 1 Axes>"
      ]
     },
     "metadata": {},
     "output_type": "display_data"
    }
   ],
   "source": [
    "m=-logReg.coef_[0,0]/logReg.coef_[0,1] #기울기?\n",
    "b=-logReg.intercept_/logReg.coef_[0,1] #계수?\n",
    "\n",
    "xval=np.linspace(1,7,101)\n",
    "yval=m*xval+b\n",
    "\n",
    "#graph\n",
    "plt.plot(xval,yval,color='r')\n",
    "\n",
    "plt.scatter(X_train[y_train==0,0], X_train[y_train==0,1], color='k', marker='o',label='trainclass0')\n",
    "plt.scatter(X_train[y_train==1,0],X_train[y_train==1,1], color='k',marker='^',label=\"trainclass1\")\n",
    "plt.scatter(X_test[y_test==0,0],X_test[y_test==0,1],color='b',marker='o',label='testclass0')\n",
    "plt.scatter(X_test[y_test==1,0],X_test[y_test==1,1],color='b',marker='^', label='testclass1')\n",
    "\n",
    "plt.xlim([1,7])\n",
    "plt.ylim([-4,2.5])\n",
    "plt.legend()\n",
    "\n",
    "plt.show()"
   ]
  }
 ],
 "metadata": {
  "kernelspec": {
   "display_name": "Python 3",
   "language": "python",
   "name": "python3"
  },
  "language_info": {
   "codemirror_mode": {
    "name": "ipython",
    "version": 3
   },
   "file_extension": ".py",
   "mimetype": "text/x-python",
   "name": "python",
   "nbconvert_exporter": "python",
   "pygments_lexer": "ipython3",
   "version": "3.6.6"
  }
 },
 "nbformat": 4,
 "nbformat_minor": 2
}
