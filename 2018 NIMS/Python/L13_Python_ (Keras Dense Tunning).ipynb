{
 "cells": [
  {
   "cell_type": "code",
   "execution_count": 20,
   "metadata": {},
   "outputs": [],
   "source": [
    "import numpy as np\n",
    "import matplotlib.pyplot as plt\n",
    "#import keras\n",
    "\n",
    "from keras.models import Sequential\n",
    "from keras.layers import Dense, Activation\n",
    "from keras.optimizers import SGD\n",
    "\n",
    "from keras import initializers\n",
    "from keras import regularizers\n",
    "\n",
    "from keras.layers import Dropout\n",
    "from keras.optimizers import RMSprop, Adagrad, Adam\n",
    "from keras. callbacks import EarlyStopping\n",
    "\n",
    "from sklearn.model_selection import train_test_split"
   ]
  },
  {
   "cell_type": "markdown",
   "metadata": {},
   "source": [
    "### IRIS Data (Multi-class Classification)"
   ]
  },
  {
   "cell_type": "code",
   "execution_count": 4,
   "metadata": {},
   "outputs": [],
   "source": [
    "from sklearn.datasets import load_iris"
   ]
  },
  {
   "cell_type": "code",
   "execution_count": 21,
   "metadata": {},
   "outputs": [],
   "source": [
    "iris=load_iris()\n",
    "\n",
    "x=iris.data\n",
    "y=iris.target\n",
    "target_name=iris.target_names"
   ]
  },
  {
   "cell_type": "code",
   "execution_count": 22,
   "metadata": {},
   "outputs": [],
   "source": [
    "X_train,X_test,y_train,y_test=train_test_split(x,y,random_state=10, test_size=0.2)"
   ]
  },
  {
   "cell_type": "code",
   "execution_count": 23,
   "metadata": {},
   "outputs": [
    {
     "name": "stdout",
     "output_type": "stream",
     "text": [
      "(120, 3) (30, 3)\n"
     ]
    }
   ],
   "source": [
    "Y_train=np.eye(3)[y_train].astype(int)\n",
    "Y_test=np.eye(3)[y_test].astype(int)\n",
    "\n",
    "print(Y_train.shape, Y_test.shape)"
   ]
  },
  {
   "cell_type": "markdown",
   "metadata": {},
   "source": [
    "### Define a model ( with a initializer)"
   ]
  },
  {
   "cell_type": "code",
   "execution_count": 24,
   "metadata": {},
   "outputs": [
    {
     "name": "stdout",
     "output_type": "stream",
     "text": [
      "_________________________________________________________________\n",
      "Layer (type)                 Output Shape              Param #   \n",
      "=================================================================\n",
      "dense_12 (Dense)             (None, 16)                80        \n",
      "_________________________________________________________________\n",
      "activation_9 (Activation)    (None, 16)                0         \n",
      "_________________________________________________________________\n",
      "dense_13 (Dense)             (None, 3)                 51        \n",
      "_________________________________________________________________\n",
      "activation_10 (Activation)   (None, 3)                 0         \n",
      "=================================================================\n",
      "Total params: 131\n",
      "Trainable params: 131\n",
      "Non-trainable params: 0\n",
      "_________________________________________________________________\n"
     ]
    }
   ],
   "source": [
    "#model(Dense)with a initializer\n",
    "inDim=4\n",
    "outDim=3\n",
    "hDim=16\n",
    "\n",
    "model=Sequential()\n",
    "#model.add(Dense(input_dim=inDim, units=hDim, #units:output\n",
    "#                kernel_initializer='TruncatedNormal'))\n",
    "model.add(Dense(input_dim=inDim, units=hDim,\n",
    "                kernel_initializer=initializers.truncated_normal(\n",
    "                    mean=0.0, stddev=0.05, seed=21),\n",
    "                bias_initializer='zeros'))\n",
    "model.add(Activation('sigmoid'))\n",
    "\n",
    "model.add(Dense(units=outDim,\n",
    "               kernel_initializer=initializers.truncated_normal(\n",
    "                   mean=0.0,stddev=0.05, seed=52),\n",
    "               bias_initializer='zeros'))\n",
    "\n",
    "model.add(Activation('softmax'))\n",
    "\n",
    "model.summary()"
   ]
  },
  {
   "cell_type": "markdown",
   "metadata": {},
   "source": [
    "### Compile the Model (Highlevel gradient descent method)"
   ]
  },
  {
   "cell_type": "markdown",
   "metadata": {},
   "source": [
    "- optimization(SGD) # 확률적 경사하강법"
   ]
  },
  {
   "cell_type": "code",
   "execution_count": 26,
   "metadata": {},
   "outputs": [],
   "source": [
    "#SGD(lr=0.01, momentum=0.0 , decay=0.0, nestreov=False) #momentum:계수, 정확도 조정, nestreov : 불필요한 이동을 줄임 (T)\n",
    "opt=SGD(lr=0.1)\n",
    "\n",
    "model.compile(loss='categorical_crossentropy', optimizer=opt, metrics=['accuracy']) #categorical crossentropy : 지그재그 막기위해 ,metrics=평가기준"
   ]
  },
  {
   "cell_type": "code",
   "execution_count": 27,
   "metadata": {},
   "outputs": [
    {
     "name": "stdout",
     "output_type": "stream",
     "text": [
      "[[-0.06651231  0.06084896 -0.02027105  0.0429353   0.00484679  0.03771814\n",
      "   0.04159919  0.04786976 -0.03979918  0.05438533  0.02591087 -0.02320846\n",
      "  -0.0983348   0.04131412  0.01668444 -0.02029468]\n",
      " [-0.00114676  0.0499071  -0.09091502 -0.01994444 -0.00986788  0.01910614\n",
      "   0.00326421 -0.06318492 -0.03992816 -0.03367455  0.0283653   0.01777256\n",
      "  -0.0328366   0.01893912 -0.00831938 -0.04864088]\n",
      " [ 0.01954323 -0.01041132  0.02627815  0.04530815 -0.02908938 -0.01692891\n",
      "   0.01367663 -0.09941607  0.09239485  0.02014716  0.03926263 -0.09033368\n",
      "   0.00022338 -0.0357491   0.04413448 -0.0015355 ]\n",
      " [ 0.0762908  -0.0480655   0.00265197 -0.07798473 -0.03276191 -0.00071364\n",
      "   0.05602922  0.02409859 -0.02290691  0.01899253  0.04512818  0.05136125\n",
      "  -0.03117363  0.03559926  0.00875094 -0.05917511]]\n",
      "[0. 0. 0. 0. 0. 0. 0. 0. 0. 0. 0. 0. 0. 0. 0. 0.]\n",
      "[[-0.04273521  0.01987622 -0.01489236]\n",
      " [ 0.05379617 -0.05647922  0.08901107]\n",
      " [-0.0623383  -0.03034982  0.02403201]\n",
      " [ 0.02695994  0.03014457 -0.01204273]\n",
      " [-0.07340004  0.05321525 -0.00780042]\n",
      " [ 0.00843835 -0.08504941 -0.04071971]\n",
      " [-0.03800111  0.03386156 -0.04037478]\n",
      " [-0.02711869 -0.03675804 -0.03088982]\n",
      " [-0.06558067  0.04646193  0.05637279]\n",
      " [ 0.06360018  0.0257365  -0.06681998]\n",
      " [-0.0068774  -0.05539972 -0.07000583]\n",
      " [-0.0515411   0.00811401  0.01583209]\n",
      " [-0.08864677 -0.08035683  0.00511496]\n",
      " [-0.04712981 -0.07639968  0.00267376]\n",
      " [ 0.03307593  0.00902819 -0.0080389 ]\n",
      " [ 0.05170096 -0.02012947  0.01685987]]\n",
      "[0. 0. 0.]\n"
     ]
    }
   ],
   "source": [
    "#checking weights before training\n",
    "for i in range(4):\n",
    "    print(model.get_weights()[i])\n"
   ]
  },
  {
   "cell_type": "markdown",
   "metadata": {},
   "source": [
    "### Training the Model"
   ]
  },
  {
   "cell_type": "code",
   "execution_count": 28,
   "metadata": {},
   "outputs": [],
   "source": [
    "#learning with both test and validation sets\n",
    "n_epochs=100\n",
    "hist=model.fit(X_train,Y_train, validation_split=0.25, epochs=n_epochs, verbose=0)"
   ]
  },
  {
   "cell_type": "markdown",
   "metadata": {},
   "source": [
    "### Result"
   ]
  },
  {
   "cell_type": "code",
   "execution_count": 29,
   "metadata": {},
   "outputs": [
    {
     "name": "stdout",
     "output_type": "stream",
     "text": [
      "dict_keys(['val_loss', 'val_acc', 'loss', 'acc'])\n"
     ]
    }
   ],
   "source": [
    "print(hist.history.keys())"
   ]
  },
  {
   "cell_type": "code",
   "execution_count": 30,
   "metadata": {},
   "outputs": [
    {
     "data": {
      "image/png": "[encoded data removed]",
      "text/plain": [
       "<Figure size 432x288 with 2 Axes>"
      ]
     },
     "metadata": {},
     "output_type": "display_data"
    }
   ],
   "source": [
    "#graph for loss\n",
    "hist_loss=np.array(hist.history['loss'])\n",
    "hist_loss_val=np.array(hist.history['val_loss'])\n",
    "\n",
    "plt.subplot(121)\n",
    "plt.plot(hist_loss, label='training')\n",
    "plt.plot(hist_loss_val, label='validation')\n",
    "\n",
    "plt.xlabel('the number of epochs')\n",
    "plt.title('loss')\n",
    "plt.legend()\n",
    "\n",
    "#graph for accuracy\n",
    "plt.subplot(122)\n",
    "hist_acc=np.array(hist.history['acc'])\n",
    "hist_acc_val=np.array(hist.history['val_acc'])\n",
    "\n",
    "plt.plot(hist_acc, label='training')\n",
    "plt.plot(hist_acc_val, label='validation')\n",
    "\n",
    "plt.xlabel('the number of peochs')\n",
    "plt.title('accuracy')\n",
    "plt.legend()\n",
    "\n",
    "plt.show()"
   ]
  },
  {
   "cell_type": "code",
   "execution_count": 31,
   "metadata": {},
   "outputs": [
    {
     "name": "stdout",
     "output_type": "stream",
     "text": [
      "loss(trian, test): \n",
      " 0.4056977649529775 , 0.4409869313240051\n",
      "accuracy(train, test):\n",
      " 0.949999996026357 , 0.9666666388511658\n"
     ]
    }
   ],
   "source": [
    "#evaluation\n",
    "\n",
    "loss_train, acc_train=model.evaluate(X_train, Y_train, verbose=0)\n",
    "loss_test, acc_test=model.evaluate(X_test, Y_test, verbose=0)\n",
    "\n",
    "print(\"loss(trian, test): \\n\", loss_train, ',',loss_test)\n",
    "print(\"accuracy(train, test):\\n\",acc_train, ',',acc_test)"
   ]
  },
  {
   "cell_type": "code",
   "execution_count": 32,
   "metadata": {},
   "outputs": [
    {
     "name": "stdout",
     "output_type": "stream",
     "text": [
      "[1 2 0 1 0 1 2 1 0 1 1 2 1 0 0 2 1 0 0 0 2 2 2 0 1 0 1 1 1 2]\n",
      "[1 2 0 1 0 1 1 1 0 1 1 2 1 0 0 2 1 0 0 0 2 2 2 0 1 0 1 1 1 2]\n"
     ]
    }
   ],
   "source": [
    "classes_test=model.predict_classes(X_test, verbose=0)\n",
    "\n",
    "print(classes_test)\n",
    "print(y_test)"
   ]
  },
  {
   "cell_type": "markdown",
   "metadata": {},
   "source": [
    "### Other Options"
   ]
  },
  {
   "cell_type": "markdown",
   "metadata": {},
   "source": [
    "- Training:Mini-batch"
   ]
  },
  {
   "cell_type": "code",
   "execution_count": 34,
   "metadata": {},
   "outputs": [],
   "source": [
    "#learniing with both test and calidation sets\n",
    "n_epochs=100\n",
    "n_batch=32\n",
    "\n",
    "hist=model.fit(X_train,Y_train, \n",
    "               validation_split=0.25,\n",
    "               epochs=n_epochs,\n",
    "               batch_size=n_batch,\n",
    "               verbose=0)"
   ]
  },
  {
   "cell_type": "code",
   "execution_count": 36,
   "metadata": {},
   "outputs": [],
   "source": [
    "#learning with both test and validation sets\n",
    "\n",
    "n_epochs=100\n",
    "n_batch=32\n",
    "\n",
    "hist=model.fit(X_train, Y_train, validation_split=0.25, epochs=n_epochs, batch_size=n_batch, verbose=0)"
   ]
  },
  {
   "cell_type": "markdown",
   "metadata": {},
   "source": [
    "- Activation function (sigmoid, tanh, relu, etc)"
   ]
  },
  {
   "cell_type": "code",
   "execution_count": 41,
   "metadata": {},
   "outputs": [
    {
     "name": "stdout",
     "output_type": "stream",
     "text": [
      "_________________________________________________________________\n",
      "Layer (type)                 Output Shape              Param #   \n",
      "=================================================================\n",
      "dense_17 (Dense)             (None, 16)                80        \n",
      "_________________________________________________________________\n",
      "activation_13 (Activation)   (None, 16)                0         \n",
      "_________________________________________________________________\n",
      "dense_18 (Dense)             (None, 3)                 51        \n",
      "_________________________________________________________________\n",
      "activation_14 (Activation)   (None, 3)                 0         \n",
      "=================================================================\n",
      "Total params: 131\n",
      "Trainable params: 131\n",
      "Non-trainable params: 0\n",
      "_________________________________________________________________\n"
     ]
    }
   ],
   "source": [
    "#model(Dense)\n",
    "in_dim=4\n",
    "out_dim=3\n",
    "h_dim=16\n",
    "\n",
    "model=Sequential()\n",
    "model.add(Dense(input_dim=in_dim, units=h_dim, kernel_initializer=initializers.truncated_normal(\n",
    "                    mean=0.0,stddev=0.05, seed=21), bias_initializer='zeros'))\n",
    "model.add(Activation('relu'))\n",
    "\n",
    "model.add(Dense(units=out_dim, kernel_initializer=initializers.truncated_normal(\n",
    "                    mean=0.0, stddev=0.05, seed=52), bias_initializer='zeros'))\n",
    "model.add(Activation('softmax'))\n",
    "\n",
    "model.summary()\n"
   ]
  },
  {
   "cell_type": "markdown",
   "metadata": {},
   "source": [
    "- Regularizer(l1,l2) ( kernal_regularizer, bias_regularizizer, activity_regularizer)"
   ]
  },
  {
   "cell_type": "code",
   "execution_count": 54,
   "metadata": {},
   "outputs": [
    {
     "name": "stdout",
     "output_type": "stream",
     "text": [
      "_________________________________________________________________\n",
      "Layer (type)                 Output Shape              Param #   \n",
      "=================================================================\n",
      "dense_19 (Dense)             (None, 16)                64        \n",
      "_________________________________________________________________\n",
      "activation_15 (Activation)   (None, 16)                0         \n",
      "_________________________________________________________________\n",
      "dense_20 (Dense)             (None, 4)                 68        \n",
      "_________________________________________________________________\n",
      "activation_16 (Activation)   (None, 4)                 0         \n",
      "=================================================================\n",
      "Total params: 132\n",
      "Trainable params: 132\n",
      "Non-trainable params: 0\n",
      "_________________________________________________________________\n"
     ]
    }
   ],
   "source": [
    "#model(Dense)\n",
    "in_dim=3\n",
    "out_dim=4\n",
    "h_dim=16\n",
    "\n",
    "model=Sequential()\n",
    "model.add(Dense(input_dim=in_dim, units=h_dim, \n",
    "               kernel_initializer=initializers.truncated_normal(\n",
    "                   mean=0.0, stddev=0.05, seed=21),\n",
    "               kernel_regularizer=regularizers.l2(0.01),\n",
    "               bias_initializer='zeros',\n",
    "               bias_regularizer=regularizers.l2(0.01))\n",
    "         )\n",
    "model.add(Activation('relu'))\n",
    "\n",
    "model.add(Dense(units=out_dim, \n",
    "               kernel_initializer=initializers.truncated_normal(\n",
    "                   mean=0.0, stddev=0.05, seed=52),\n",
    "               kernel_regularizer=regularizers.l2(0.01),\n",
    "               bias_initializer='zero',\n",
    "               bias_regularizer=regularizers.l2(0.01))\n",
    "         )\n",
    "model.add(Activation('softmax'))\n",
    "\n",
    "model.summary()"
   ]
  },
  {
   "cell_type": "markdown",
   "metadata": {},
   "source": [
    "### Dropout (overfitting 막기위해 많이쓰는 방법)"
   ]
  },
  {
   "cell_type": "code",
   "execution_count": 55,
   "metadata": {},
   "outputs": [
    {
     "name": "stdout",
     "output_type": "stream",
     "text": [
      "_________________________________________________________________\n",
      "Layer (type)                 Output Shape              Param #   \n",
      "=================================================================\n",
      "dense_21 (Dense)             (None, 16)                80        \n",
      "_________________________________________________________________\n",
      "activation_17 (Activation)   (None, 16)                0         \n",
      "_________________________________________________________________\n",
      "dropout_1 (Dropout)          (None, 16)                0         \n",
      "_________________________________________________________________\n",
      "dense_22 (Dense)             (None, 3)                 51        \n",
      "_________________________________________________________________\n",
      "activation_18 (Activation)   (None, 3)                 0         \n",
      "=================================================================\n",
      "Total params: 131\n",
      "Trainable params: 131\n",
      "Non-trainable params: 0\n",
      "_________________________________________________________________\n"
     ]
    }
   ],
   "source": [
    "#model(Dropout, apply to a hidden layer)\n",
    "in_dim=4\n",
    "out_dim=3\n",
    "h_dim=16\n",
    "\n",
    "model=Sequential()\n",
    "model.add(Dense(input_dim=in_dim, units=h_dim, \n",
    "               kernel_initializer=initializers.truncated_normal(\n",
    "                   mean=0.0, stddev=0.05, seed=21),\n",
    "               bias_initializer='zeros'))\n",
    "         \n",
    "model.add(Activation('relu'))\n",
    "model.add(Dropout(0.2))\n",
    "\n",
    "model.add(Dense(units=out_dim, \n",
    "               kernel_initializer=initializers.truncated_normal(\n",
    "                   mean=0.0, stddev=0.05, seed=52),\n",
    "               bias_initializer='zeros'))\n",
    "         \n",
    "model.add(Activation('softmax'))\n",
    "\n",
    "model.summary()\n"
   ]
  },
  {
   "cell_type": "markdown",
   "metadata": {},
   "source": [
    "- Optimization: RMSprop"
   ]
  },
  {
   "cell_type": "code",
   "execution_count": 57,
   "metadata": {},
   "outputs": [],
   "source": [
    "# RMSprop(lr=0.001, rho=0.9, epsilon=None, decay=0.0)\n",
    "opt=RMSprop(lr=0.1) #adagrad 개선버전.\n",
    "\n",
    "model.compile(loss='categorical_crossentropy',\n",
    "              optimizer=opt,\n",
    "              metrics=['accuracy'])"
   ]
  },
  {
   "cell_type": "markdown",
   "metadata": {},
   "source": [
    "- Optimization:Adagrad"
   ]
  },
  {
   "cell_type": "code",
   "execution_count": 59,
   "metadata": {},
   "outputs": [],
   "source": [
    "#Adagrad(lr=0.01, epsilon=None, decay=0.0) #learning rate 조절시킴 (but 성능 not good)\n",
    "opt=Adagrad(lr=0.1)\n",
    "\n",
    "model.compile(loss='categorical_crossentropy',\n",
    "              optimizer=opt,\n",
    "              metrics=['accuracy'])"
   ]
  },
  {
   "cell_type": "markdown",
   "metadata": {},
   "source": [
    "- Optimization : Adam"
   ]
  },
  {
   "cell_type": "code",
   "execution_count": 60,
   "metadata": {},
   "outputs": [],
   "source": [
    "#Adam(lr=0.001, beta_1=0.9, beta_2=0.999,epsilon=None, decay=0.0, amsgrad) #실제 많이 사용\n",
    "opt=Adam(lr=0.1)\n",
    "\n",
    "model.compile(loss='categorical_crossentropy',\n",
    "              optimizer=opt,\n",
    "              metrics=['accuracy'])"
   ]
  },
  {
   "cell_type": "markdown",
   "metadata": {},
   "source": [
    "- Training : EarlyStopping"
   ]
  },
  {
   "cell_type": "code",
   "execution_count": null,
   "metadata": {},
   "outputs": [],
   "source": [
    "n_epochs=100\n",
    "\n",
    "stopper=EarlyStopping(monitor='val_loss', patience=10)\n",
    "hist=model.fit(X_train, Y_train,\n",
    "               validation_split=0.25,\n",
    "               epochs=n_epochs,\n",
    "               verbose=0,\n",
    "               callbacks=[stopper])"
   ]
  },
  {
   "cell_type": "code",
   "execution_count": 62,
   "metadata": {},
   "outputs": [],
   "source": [
    "#local minimum 찾는 방법"
   ]
  }
 ],
 "metadata": {
  "kernelspec": {
   "display_name": "Python 3",
   "language": "python",
   "name": "python3"
  },
  "language_info": {
   "codemirror_mode": {
    "name": "ipython",
    "version": 3
   },
   "file_extension": ".py",
   "mimetype": "text/x-python",
   "name": "python",
   "nbconvert_exporter": "python",
   "pygments_lexer": "ipython3",
   "version": "3.6.6"
  }
 },
 "nbformat": 4,
 "nbformat_minor": 2
}
