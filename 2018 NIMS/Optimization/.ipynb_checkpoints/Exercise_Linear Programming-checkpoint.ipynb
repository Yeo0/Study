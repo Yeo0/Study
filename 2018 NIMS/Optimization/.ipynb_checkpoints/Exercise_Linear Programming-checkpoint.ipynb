{
 "cells": [
  {
   "cell_type": "code",
   "execution_count": 2,
   "metadata": {},
   "outputs": [],
   "source": [
    "#pywralplp wrapper 호출\n",
    "from ortools.linear_solver import pywraplp #c++로 적혀있는 것을 python으로 불러오기 위해"
   ]
  },
  {
   "cell_type": "code",
   "execution_count": 3,
   "metadata": {},
   "outputs": [],
   "source": [
    "#solver선언 및 naming\n",
    "solver=pywraplp.Solver('LP solver',pywraplp.Solver.GLOP_LINEAR_PROGRAMMING)"
   ]
  },
  {
   "cell_type": "code",
   "execution_count": 5,
   "metadata": {},
   "outputs": [],
   "source": [
    "#변수선언\n",
    "#solver.NumVar(최솟값, 최댓값, 변수명), 하한, 상한이 없는경우 solver.infinity()활용\n",
    "x=solver.NumVar(0,solver.infinity(),'x') #numeric variable( )\n",
    "y=solver.NumVar(0,solver.infinity(),'y')\n",
    "\n",
    "#변수랑 제약조건만 늘려나가면 많은 식들도 쉽게 해결 가능\n"
   ]
  },
  {
   "cell_type": "code",
   "execution_count": 6,
   "metadata": {},
   "outputs": [],
   "source": [
    "#Constraint 1: x<=5\n",
    "constraint1=solver.Constraint(-solver.infinity(), 5) # solver.constraint(최솟값, 최댓값)\n",
    "constraint1.SetCoefficient(x,1) #1*x와 관련있다는것을 알려줌\n",
    "\n",
    "#Constraint 2:y<=3\n",
    "constraint2=solver.Constraint(-solver.infinity(),3)\n",
    "constraint2.SetCoefficient(y,1)\n",
    "\n",
    "#Constraint 3: x+3y<=11\n",
    "constraint3 = solver.Constraint(-solver.infinity(),11)\n",
    "constraint3.SetCoefficient(x,1)\n",
    "constraint3.SetCoefficient(y,3)\n",
    "\n",
    "#Objective function: 3x+12y\n",
    "objective=solver.Objective()\n",
    "objective.SetCoefficient(x,3)\n",
    "objective.SetCoefficient(y,12)\n",
    "objective.SetMaximization()\n"
   ]
  },
  {
   "cell_type": "code",
   "execution_count": 10,
   "metadata": {},
   "outputs": [
    {
     "name": "stdout",
     "output_type": "stream",
     "text": [
      "Number of variables: 2\n",
      "Number of constraints: 4\n"
     ]
    }
   ],
   "source": [
    "print('Number of variables:', solver.NumVariables())\n",
    "print('Number of constraints:', solver.NumConstraints())\n"
   ]
  },
  {
   "cell_type": "code",
   "execution_count": 11,
   "metadata": {},
   "outputs": [
    {
     "data": {
      "text/plain": [
       "0"
      ]
     },
     "execution_count": 11,
     "metadata": {},
     "output_type": "execute_result"
    }
   ],
   "source": [
    "#Solve the system.\n",
    "solver.Solve()"
   ]
  },
  {
   "cell_type": "code",
   "execution_count": 19,
   "metadata": {},
   "outputs": [
    {
     "name": "stdout",
     "output_type": "stream",
     "text": [
      "solver.OPTIMAL: 0,\n",
      "solver.FEASIBLE: 1,\n",
      "solver.INFEASIBLE: 2,\n",
      "solver.UNBOUNDED: 3,\n",
      "solver.NOT_SOLVED:6,\n",
      "solver.ABNORMAL: 4\n"
     ]
    }
   ],
   "source": [
    "print(f'solver.OPTIMAL: {solver.OPTIMAL},\\n\\\n",
    "solver.FEASIBLE: {solver.FEASIBLE},\\n\\\n",
    "solver.INFEASIBLE: {solver.INFEASIBLE},\\n\\\n",
    "solver.UNBOUNDED: {solver.UNBOUNDED},\\n\\\n",
    "solver.NOT_SOLVED:{solver.NOT_SOLVED},\\n\\\n",
    "solver.ABNORMAL: {solver.ABNORMAL}')"
   ]
  },
  {
   "cell_type": "code",
   "execution_count": 9,
   "metadata": {},
   "outputs": [
    {
     "name": "stdout",
     "output_type": "stream",
     "text": [
      "x= 1.9999999999999996\n",
      "y= 3.0\n",
      "Optimal objective value= 42.0\n"
     ]
    }
   ],
   "source": [
    "#The value of each variable in the solution.\n",
    "print('x=',x.solution_value())\n",
    "print('y=',y.solution_value())\n",
    "\n",
    "#The objective value of the solution.\n",
    "opt_solution = 3*x.solution_value() + 12*y.solution_value()\n",
    "print('Optimal objective value=',opt_solution)"
   ]
  }
 ],
 "metadata": {
  "kernelspec": {
   "display_name": "Python 3",
   "language": "python",
   "name": "python3"
  }
 },
 "nbformat": 4,
 "nbformat_minor": 2
}
