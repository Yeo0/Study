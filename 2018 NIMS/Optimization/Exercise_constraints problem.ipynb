{
 "cells": [
  {
   "cell_type": "code",
   "execution_count": 1,
   "metadata": {},
   "outputs": [],
   "source": [
    "from ortools.constraint_solver import pywrapcp\n",
    "solver=pywrapcp.Solver(\"simple_cp_example\")\n"
   ]
  },
  {
   "cell_type": "code",
   "execution_count": 2,
   "metadata": {},
   "outputs": [],
   "source": [
    "#Create the variables\n",
    "x=solver.IntVar(0,2,'x') #뒤에있는 2도 포함\n",
    "y=solver.IntVar(0,2,'y')\n",
    "z=solver.IntVar(0,2,'z')\n",
    "\n",
    "#Create the constraints\n",
    "solver.Add(x!=y) "
   ]
  },
  {
   "cell_type": "code",
   "execution_count": 13,
   "metadata": {},
   "outputs": [
    {
     "data": {
      "text/plain": [
       "True"
      ]
     },
     "execution_count": 13,
     "metadata": {},
     "output_type": "execute_result"
    }
   ],
   "source": [
    "#Decision builder: solver.Phase(변수,변수탐색조건,변수값탐색조건)\n",
    "db=solver.Phase([x,y,z],solver.INT_VAR_DEFAULT, solver.INT_VALUE_DEFAULT)\n",
    "\n",
    "#조건에 따라 최초로 발견할 수 있는 feasible solution이 달라짐. 경로가 달라지니까\n",
    "\n",
    "#http:// acrogenesis.com/or-tools/documentation/user_manual/manual/search_primitives/basic_working_phases.html\n",
    "\n",
    "solver.Solve(db) # True: 풀 수 있다"
   ]
  },
  {
   "cell_type": "code",
   "execution_count": 6,
   "metadata": {},
   "outputs": [
    {
     "name": "stdout",
     "output_type": "stream",
     "text": [
      "[x(0), y(1), z(0)]\n"
     ]
    }
   ],
   "source": [
    "solver.NextSolution() #한 번 할때마다 새로운 solution\n",
    "print([x,y,z])"
   ]
  },
  {
   "cell_type": "code",
   "execution_count": 10,
   "metadata": {},
   "outputs": [
    {
     "name": "stdout",
     "output_type": "stream",
     "text": [
      "[x(0..2), y(0..2), z(0..2)]\n"
     ]
    }
   ],
   "source": [
    "solver.NextSolution()\n",
    "print([x,y,z])"
   ]
  },
  {
   "cell_type": "code",
   "execution_count": 14,
   "metadata": {},
   "outputs": [
    {
     "name": "stdout",
     "output_type": "stream",
     "text": [
      "x= 0 y= 1 z= 0\n",
      "x= 0 y= 1 z= 1\n",
      "x= 0 y= 1 z= 2\n",
      "x= 0 y= 2 z= 0\n",
      "x= 0 y= 2 z= 1\n",
      "x= 0 y= 2 z= 2\n",
      "x= 1 y= 0 z= 0\n",
      "x= 1 y= 0 z= 1\n",
      "x= 1 y= 0 z= 2\n",
      "x= 1 y= 2 z= 0\n",
      "x= 1 y= 2 z= 1\n",
      "x= 1 y= 2 z= 2\n",
      "x= 2 y= 0 z= 0\n",
      "x= 2 y= 0 z= 1\n",
      "x= 2 y= 0 z= 2\n",
      "x= 2 y= 1 z= 0\n",
      "x= 2 y= 1 z= 1\n",
      "x= 2 y= 1 z= 2\n",
      "\n",
      "Number of solutions found: 18\n"
     ]
    }
   ],
   "source": [
    "count=0\n",
    "while solver.NextSolution():\n",
    "    count+=1\n",
    "    print('x=',x.Value(),'y=',y.Value(),'z=',z.Value())\n",
    "print('\\nNumber of solutions found:', count)"
   ]
  },
  {
   "cell_type": "markdown",
   "metadata": {},
   "source": [
    "### Cryptrithmetic 퍼즐종류"
   ]
  },
  {
   "cell_type": "code",
   "execution_count": 2,
   "metadata": {},
   "outputs": [],
   "source": [
    "from ortools.constraint_solver import pywrapcp\n",
    "from os import abort"
   ]
  },
  {
   "cell_type": "code",
   "execution_count": 3,
   "metadata": {},
   "outputs": [],
   "source": [
    "#Constraint programming engine\n",
    "solver=pywrapcp.Solver('cp is fun')\n",
    "kBase=10 #10진법 계산"
   ]
  },
  {
   "cell_type": "code",
   "execution_count": 4,
   "metadata": {},
   "outputs": [],
   "source": [
    "#Decision variables\n",
    "digits=range(0,kBase)\n",
    "digits_without_zero=range(1,kBase)\n",
    "\n",
    "#맨 앞에 있는 애들은 1이상 숫자를 가져야함\n",
    "c=solver.IntVar(1,kBase-1,'C')\n",
    "p=solver.IntVar(0,kBase-1,'P')\n",
    "i=solver.IntVar(1,kBase-1,'I')\n",
    "s=solver.IntVar(0,kBase-1,'S')\n",
    "f=solver.IntVar(1,kBase-1,'F')\n",
    "u=solver.IntVar(0,kBase-1,'U')\n",
    "n=solver.IntVar(0,kBase-1,'N')\n",
    "t=solver.IntVar(1,kBase-1,'T')\n",
    "r=solver.IntVar(0,kBase-1,'R')\n",
    "e=solver.IntVar(0,kBase-1,'E')\n"
   ]
  },
  {
   "cell_type": "code",
   "execution_count": 5,
   "metadata": {},
   "outputs": [],
   "source": [
    "#solver.Add(solver.AllDifferent([c,p,i,s]))"
   ]
  },
  {
   "cell_type": "code",
   "execution_count": 6,
   "metadata": {},
   "outputs": [],
   "source": [
    "#we need to group variables in a list to use the constraint All Different.\n",
    "\n",
    "letters=[c,p,i,s,f,u,n,t,r,e]\n",
    "\n",
    "#Define constraints.\n",
    "solver.Add(solver.AllDifferent(letters))\n",
    "\n",
    "#CP+IS+FUN=TRUE\n",
    "solver.Add(p+s+n+kBase*(c+i+u)+kBase**2 * f \n",
    "           ==\n",
    "           e+ kBase*u+kBase**2*r+kBase**3*t)"
   ]
  },
  {
   "cell_type": "code",
   "execution_count": 7,
   "metadata": {},
   "outputs": [
    {
     "data": {
      "text/plain": [
       "True"
      ]
     },
     "execution_count": 7,
     "metadata": {},
     "output_type": "execute_result"
    }
   ],
   "source": [
    "#decision builder\n",
    "db=solver.Phase(letters, solver.INT_VAR_DEFAULT,solver.INT_VALUE_DEFAULT)\n",
    "\n",
    "solver.Solve(db)"
   ]
  },
  {
   "cell_type": "code",
   "execution_count": 8,
   "metadata": {},
   "outputs": [],
   "source": [
    "def print_solution(solver, letters):\n",
    "    count=0\n",
    "    \n",
    "    while solver.NextSolution():\n",
    "        count+=1\n",
    "        print(letters)\n",
    "    print(\"\\nNumber of solutions:\",count)\n",
    "    "
   ]
  },
  {
   "cell_type": "code",
   "execution_count": 9,
   "metadata": {},
   "outputs": [
    {
     "name": "stdout",
     "output_type": "stream",
     "text": [
      "[C(2), P(3), I(7), S(4), F(9), U(6), N(8), T(1), R(0), E(5)]\n",
      "[C(2), P(3), I(7), S(5), F(9), U(4), N(8), T(1), R(0), E(6)]\n",
      "[C(2), P(3), I(7), S(5), F(9), U(8), N(6), T(1), R(0), E(4)]\n",
      "[C(2), P(3), I(7), S(6), F(9), U(8), N(5), T(1), R(0), E(4)]\n",
      "[C(2), P(3), I(7), S(8), F(9), U(4), N(5), T(1), R(0), E(6)]\n",
      "[C(2), P(3), I(7), S(8), F(9), U(6), N(4), T(1), R(0), E(5)]\n",
      "[C(2), P(4), I(7), S(3), F(9), U(6), N(8), T(1), R(0), E(5)]\n",
      "[C(2), P(4), I(7), S(8), F(9), U(6), N(3), T(1), R(0), E(5)]\n",
      "[C(2), P(5), I(7), S(3), F(9), U(4), N(8), T(1), R(0), E(6)]\n",
      "[C(2), P(5), I(7), S(3), F(9), U(8), N(6), T(1), R(0), E(4)]\n",
      "[C(2), P(5), I(7), S(6), F(9), U(8), N(3), T(1), R(0), E(4)]\n",
      "[C(2), P(5), I(7), S(8), F(9), U(4), N(3), T(1), R(0), E(6)]\n",
      "[C(2), P(6), I(7), S(3), F(9), U(8), N(5), T(1), R(0), E(4)]\n",
      "[C(2), P(6), I(7), S(5), F(9), U(8), N(3), T(1), R(0), E(4)]\n",
      "[C(2), P(8), I(7), S(3), F(9), U(4), N(5), T(1), R(0), E(6)]\n",
      "[C(2), P(8), I(7), S(3), F(9), U(6), N(4), T(1), R(0), E(5)]\n",
      "[C(2), P(8), I(7), S(4), F(9), U(6), N(3), T(1), R(0), E(5)]\n",
      "[C(2), P(8), I(7), S(5), F(9), U(4), N(3), T(1), R(0), E(6)]\n",
      "[C(3), P(2), I(6), S(5), F(9), U(8), N(7), T(1), R(0), E(4)]\n",
      "[C(3), P(2), I(6), S(7), F(9), U(8), N(5), T(1), R(0), E(4)]\n",
      "[C(3), P(4), I(6), S(5), F(9), U(2), N(8), T(1), R(0), E(7)]\n",
      "[C(3), P(4), I(6), S(8), F(9), U(2), N(5), T(1), R(0), E(7)]\n",
      "[C(3), P(5), I(6), S(2), F(9), U(8), N(7), T(1), R(0), E(4)]\n",
      "[C(3), P(5), I(6), S(4), F(9), U(2), N(8), T(1), R(0), E(7)]\n",
      "[C(3), P(5), I(6), S(7), F(9), U(8), N(2), T(1), R(0), E(4)]\n",
      "[C(3), P(5), I(6), S(8), F(9), U(2), N(4), T(1), R(0), E(7)]\n",
      "[C(3), P(7), I(6), S(2), F(9), U(8), N(5), T(1), R(0), E(4)]\n",
      "[C(3), P(7), I(6), S(5), F(9), U(8), N(2), T(1), R(0), E(4)]\n",
      "[C(3), P(8), I(6), S(4), F(9), U(2), N(5), T(1), R(0), E(7)]\n",
      "[C(3), P(8), I(6), S(5), F(9), U(2), N(4), T(1), R(0), E(7)]\n",
      "[C(4), P(3), I(5), S(6), F(9), U(2), N(8), T(1), R(0), E(7)]\n",
      "[C(4), P(3), I(5), S(8), F(9), U(2), N(6), T(1), R(0), E(7)]\n",
      "[C(4), P(6), I(5), S(3), F(9), U(2), N(8), T(1), R(0), E(7)]\n",
      "[C(4), P(6), I(5), S(8), F(9), U(2), N(3), T(1), R(0), E(7)]\n",
      "[C(4), P(8), I(5), S(3), F(9), U(2), N(6), T(1), R(0), E(7)]\n",
      "[C(4), P(8), I(5), S(6), F(9), U(2), N(3), T(1), R(0), E(7)]\n",
      "[C(5), P(3), I(4), S(6), F(9), U(2), N(8), T(1), R(0), E(7)]\n",
      "[C(5), P(3), I(4), S(8), F(9), U(2), N(6), T(1), R(0), E(7)]\n",
      "[C(5), P(6), I(4), S(3), F(9), U(2), N(8), T(1), R(0), E(7)]\n",
      "[C(5), P(6), I(4), S(8), F(9), U(2), N(3), T(1), R(0), E(7)]\n",
      "[C(5), P(8), I(4), S(3), F(9), U(2), N(6), T(1), R(0), E(7)]\n",
      "[C(5), P(8), I(4), S(6), F(9), U(2), N(3), T(1), R(0), E(7)]\n",
      "[C(6), P(2), I(3), S(5), F(9), U(8), N(7), T(1), R(0), E(4)]\n",
      "[C(6), P(2), I(3), S(7), F(9), U(8), N(5), T(1), R(0), E(4)]\n",
      "[C(6), P(4), I(3), S(5), F(9), U(2), N(8), T(1), R(0), E(7)]\n",
      "[C(6), P(4), I(3), S(8), F(9), U(2), N(5), T(1), R(0), E(7)]\n",
      "[C(6), P(5), I(3), S(2), F(9), U(8), N(7), T(1), R(0), E(4)]\n",
      "[C(6), P(5), I(3), S(4), F(9), U(2), N(8), T(1), R(0), E(7)]\n",
      "[C(6), P(5), I(3), S(7), F(9), U(8), N(2), T(1), R(0), E(4)]\n",
      "[C(6), P(5), I(3), S(8), F(9), U(2), N(4), T(1), R(0), E(7)]\n",
      "[C(6), P(7), I(3), S(2), F(9), U(8), N(5), T(1), R(0), E(4)]\n",
      "[C(6), P(7), I(3), S(5), F(9), U(8), N(2), T(1), R(0), E(4)]\n",
      "[C(6), P(8), I(3), S(4), F(9), U(2), N(5), T(1), R(0), E(7)]\n",
      "[C(6), P(8), I(3), S(5), F(9), U(2), N(4), T(1), R(0), E(7)]\n",
      "[C(7), P(3), I(2), S(4), F(9), U(6), N(8), T(1), R(0), E(5)]\n",
      "[C(7), P(3), I(2), S(5), F(9), U(4), N(8), T(1), R(0), E(6)]\n",
      "[C(7), P(3), I(2), S(5), F(9), U(8), N(6), T(1), R(0), E(4)]\n",
      "[C(7), P(3), I(2), S(6), F(9), U(8), N(5), T(1), R(0), E(4)]\n",
      "[C(7), P(3), I(2), S(8), F(9), U(4), N(5), T(1), R(0), E(6)]\n",
      "[C(7), P(3), I(2), S(8), F(9), U(6), N(4), T(1), R(0), E(5)]\n",
      "[C(7), P(4), I(2), S(3), F(9), U(6), N(8), T(1), R(0), E(5)]\n",
      "[C(7), P(4), I(2), S(8), F(9), U(6), N(3), T(1), R(0), E(5)]\n",
      "[C(7), P(5), I(2), S(3), F(9), U(4), N(8), T(1), R(0), E(6)]\n",
      "[C(7), P(5), I(2), S(3), F(9), U(8), N(6), T(1), R(0), E(4)]\n",
      "[C(7), P(5), I(2), S(6), F(9), U(8), N(3), T(1), R(0), E(4)]\n",
      "[C(7), P(5), I(2), S(8), F(9), U(4), N(3), T(1), R(0), E(6)]\n",
      "[C(7), P(6), I(2), S(3), F(9), U(8), N(5), T(1), R(0), E(4)]\n",
      "[C(7), P(6), I(2), S(5), F(9), U(8), N(3), T(1), R(0), E(4)]\n",
      "[C(7), P(8), I(2), S(3), F(9), U(4), N(5), T(1), R(0), E(6)]\n",
      "[C(7), P(8), I(2), S(3), F(9), U(6), N(4), T(1), R(0), E(5)]\n",
      "[C(7), P(8), I(2), S(4), F(9), U(6), N(3), T(1), R(0), E(5)]\n",
      "[C(7), P(8), I(2), S(5), F(9), U(4), N(3), T(1), R(0), E(6)]\n",
      "\n",
      "Number of solutions: 72\n"
     ]
    }
   ],
   "source": [
    "print_solution(solver,letters)"
   ]
  },
  {
   "cell_type": "markdown",
   "metadata": {},
   "source": [
    "## Sudoku"
   ]
  },
  {
   "cell_type": "code",
   "execution_count": 10,
   "metadata": {},
   "outputs": [],
   "source": [
    "from __future__ import print_function\n",
    "from ortools.constraint_solver import pywrapcp"
   ]
  },
  {
   "cell_type": "code",
   "execution_count": 11,
   "metadata": {},
   "outputs": [],
   "source": [
    "solver=pywrapcp.Solver('sudoku')"
   ]
  },
  {
   "cell_type": "code",
   "execution_count": 12,
   "metadata": {},
   "outputs": [],
   "source": [
    "#setting variables\n",
    "\n",
    "box_size=2\n",
    "line_size=box_size**2\n",
    "line=list(range(0,line_size))\n",
    "box=list(range(0,box_size))\n"
   ]
  },
  {
   "cell_type": "code",
   "execution_count": 13,
   "metadata": {},
   "outputs": [
    {
     "name": "stdout",
     "output_type": "stream",
     "text": [
      "keys: dict_keys([(0, 0), (0, 1), (0, 2), (0, 3), (1, 0), (1, 1), (1, 2), (1, 3), (2, 0), (2, 1), (2, 2), (2, 3), (3, 0), (3, 1), (3, 2), (3, 3)]) \n",
      " \n",
      " values: dict_values([grid00(1..4), grid01(1..4), grid02(1..4), grid03(1..4), grid10(1..4), grid11(1..4), grid12(1..4), grid13(1..4), grid20(1..4), grid21(1..4), grid22(1..4), grid23(1..4), grid30(1..4), grid31(1..4), grid32(1..4), grid33(1..4)])\n"
     ]
    }
   ],
   "source": [
    "grid={} # 칸 하나하나위치정보\n",
    "for i in line:\n",
    "    for j in line:\n",
    "        grid[(i,j)]=solver.IntVar(1,line_size, f'grid{i}{j}') #f'strings (format하는거)\n",
    "\n",
    "print('keys:',grid.keys(),'\\n \\n values:', grid.values())        \n",
    "                                  \n",
    "                        "
   ]
  },
  {
   "cell_type": "code",
   "execution_count": null,
   "metadata": {},
   "outputs": [],
   "source": [
    "def function(i):\n",
    "    for i in range(0,4):\n",
    "        distance[i]/x*section{%s}.format(i) .%\n",
    "        "
   ]
  },
  {
   "cell_type": "code",
   "execution_count": 14,
   "metadata": {},
   "outputs": [],
   "source": [
    "##list conprehension\n",
    "\n",
    "#a=[]\n",
    "\n",
    "#for i in range(4):\n",
    "#    a.append(i)\n",
    "    \n",
    "#a=[i for i in range(4)]"
   ]
  },
  {
   "cell_type": "code",
   "execution_count": 15,
   "metadata": {},
   "outputs": [],
   "source": [
    "#AllDifferent on rows\n",
    "for i in line:\n",
    "    solver.Add(solver.AllDifferent([grid[(i,j)] for j in line]))"
   ]
  },
  {
   "cell_type": "code",
   "execution_count": 16,
   "metadata": {},
   "outputs": [],
   "source": [
    "#AllDifferent on columns\n",
    "for j in line:\n",
    "    solver.Add(solver.AllDifferent([grid[(i,j)] for i in line]))"
   ]
  },
  {
   "cell_type": "code",
   "execution_count": 17,
   "metadata": {},
   "outputs": [],
   "source": [
    "#AllDifferent on cells\n",
    "for i in box:\n",
    "    for j in box:\n",
    "        one_box = []\n",
    "        for ii in box:\n",
    "            for jj in box:\n",
    "                one_box.append(grid[(i*box_size+ii,j*box_size+jj)])\n",
    "        solver.Add(solver.AllDifferent(one_box))\n",
    "                "
   ]
  },
  {
   "cell_type": "code",
   "execution_count": null,
   "metadata": {},
   "outputs": [],
   "source": []
  },
  {
   "cell_type": "code",
   "execution_count": 18,
   "metadata": {},
   "outputs": [],
   "source": [
    "#Regroup all variables into a list\n",
    "all_vars=[grid[(i,j)] for i in line for j in line]\n",
    "\n",
    "#Create search phases.\n",
    "db=solver.Phase(all_vars,solver.INT_VAR_SIMPLE, solver.INT_VAR_SIMPLE)\n"
   ]
  },
  {
   "cell_type": "code",
   "execution_count": 19,
   "metadata": {},
   "outputs": [
    {
     "data": {
      "text/plain": [
       "True"
      ]
     },
     "execution_count": 19,
     "metadata": {},
     "output_type": "execute_result"
    }
   ],
   "source": [
    "solver.Solve(db)"
   ]
  },
  {
   "cell_type": "code",
   "execution_count": 20,
   "metadata": {},
   "outputs": [],
   "source": [
    "#solver.NextSolution()\n",
    "#print('all var:', all_vars)\n",
    "\n",
    "#for i in line:\n",
    "#    print([int(grid[(i,j)].Value()) for j in line])"
   ]
  },
  {
   "cell_type": "code",
   "execution_count": 22,
   "metadata": {},
   "outputs": [
    {
     "name": "stdout",
     "output_type": "stream",
     "text": [
      "1\n",
      "Assignment(grid00 (1) | grid01 (2) | grid02 (3) | grid03 (4) | grid10 (3) | grid11 (4) | grid12 (1) | grid13 (2) | grid20 (2) | grid21 (1) | grid22 (4) | grid23 (3) | grid30 (4) | grid31 (3) | grid32 (2) | grid33 (1) | )\n"
     ]
    }
   ],
   "source": [
    "solution=solver.Assignment()\n",
    "#http://www.lia.disi.unibo.it/Staff/MicheleLombardi/or-tools-doc/user_manual/manual/first_steps/monitors.html\n",
    "\n",
    "solution.Add(all_vars)\n",
    "collector=solver.FirstSolutionCollector(solution)\n",
    "\n",
    "#And solve.\n",
    "solver.Solve(db, [collector])\n",
    "print(collector.SolutionCount()) #first solution만 찾았기 때문\n",
    "print(collector.Solution(0))"
   ]
  },
  {
   "cell_type": "code",
   "execution_count": 24,
   "metadata": {},
   "outputs": [
    {
     "name": "stdout",
     "output_type": "stream",
     "text": [
      "[1, 2, 3, 4]\n",
      "[3, 4, 1, 2]\n",
      "[2, 1, 4, 3]\n",
      "[4, 3, 2, 1]\n"
     ]
    }
   ],
   "source": [
    "for i in line:\n",
    "    print([int(collector.Value(0,grid[(i,j)])) for j in line])"
   ]
  },
  {
   "cell_type": "code",
   "execution_count": null,
   "metadata": {},
   "outputs": [],
   "source": [
    "## TSP Problem( Traveling Salesman Problem)\n",
    "#https://developers.google.com/optimization/routing/tsp"
   ]
  },
  {
   "cell_type": "code",
   "execution_count": null,
   "metadata": {},
   "outputs": [],
   "source": []
  }
 ],
 "metadata": {
  "kernelspec": {
   "display_name": "Python 3",
   "language": "python",
   "name": "python3"
  },
  "language_info": {
   "codemirror_mode": {
    "name": "ipython",
    "version": 3
   },
   "file_extension": ".py",
   "mimetype": "text/x-python",
   "name": "python",
   "nbconvert_exporter": "python",
   "pygments_lexer": "ipython3",
   "version": "3.6.6"
  }
 },
 "nbformat": 4,
 "nbformat_minor": 2
}
